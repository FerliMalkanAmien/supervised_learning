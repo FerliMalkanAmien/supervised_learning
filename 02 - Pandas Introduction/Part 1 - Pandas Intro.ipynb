{
 "cells": [
  {
   "cell_type": "code",
   "execution_count": 2,
   "metadata": {
    "collapsed": true,
    "ExecuteTime": {
     "end_time": "2023-07-03T08:40:25.611067600Z",
     "start_time": "2023-07-03T08:40:24.278276500Z"
    }
   },
   "outputs": [
    {
     "ename": "ModuleNotFoundError",
     "evalue": "No module named 'luwiji'",
     "output_type": "error",
     "traceback": [
      "\u001B[1;31m---------------------------------------------------------------------------\u001B[0m",
      "\u001B[1;31mModuleNotFoundError\u001B[0m                       Traceback (most recent call last)",
      "Input \u001B[1;32mIn [2]\u001B[0m, in \u001B[0;36m<cell line: 4>\u001B[1;34m()\u001B[0m\n\u001B[0;32m      1\u001B[0m \u001B[38;5;28;01mimport\u001B[39;00m \u001B[38;5;21;01mnumpy\u001B[39;00m \u001B[38;5;28;01mas\u001B[39;00m \u001B[38;5;21;01mnp\u001B[39;00m\n\u001B[0;32m      2\u001B[0m \u001B[38;5;28;01mimport\u001B[39;00m \u001B[38;5;21;01mpandas\u001B[39;00m \u001B[38;5;28;01mas\u001B[39;00m \u001B[38;5;21;01mpd\u001B[39;00m\n\u001B[1;32m----> 4\u001B[0m \u001B[38;5;28;01mfrom\u001B[39;00m \u001B[38;5;21;01mluwiji\u001B[39;00m\u001B[38;5;21;01m.\u001B[39;00m\u001B[38;5;21;01mpandas\u001B[39;00m \u001B[38;5;28;01mimport\u001B[39;00m illustration\n",
      "\u001B[1;31mModuleNotFoundError\u001B[0m: No module named 'luwiji'"
     ]
    }
   ],
   "source": [
    "import numpy as np\n",
    "import pandas as pd\n",
    "\n",
    "from luwiji.pandas import illustration"
   ]
  },
  {
   "cell_type": "markdown",
   "source": [
    "# Membuat DataFrame"
   ],
   "metadata": {
    "collapsed": false
   }
  },
  {
   "cell_type": "code",
   "execution_count": 3,
   "outputs": [
    {
     "data": {
      "text/plain": "   a  b  c\n0  1  3  5\n1  2  4  6\n2  3  5  7",
      "text/html": "<div>\n<style scoped>\n    .dataframe tbody tr th:only-of-type {\n        vertical-align: middle;\n    }\n\n    .dataframe tbody tr th {\n        vertical-align: top;\n    }\n\n    .dataframe thead th {\n        text-align: right;\n    }\n</style>\n<table border=\"1\" class=\"dataframe\">\n  <thead>\n    <tr style=\"text-align: right;\">\n      <th></th>\n      <th>a</th>\n      <th>b</th>\n      <th>c</th>\n    </tr>\n  </thead>\n  <tbody>\n    <tr>\n      <th>0</th>\n      <td>1</td>\n      <td>3</td>\n      <td>5</td>\n    </tr>\n    <tr>\n      <th>1</th>\n      <td>2</td>\n      <td>4</td>\n      <td>6</td>\n    </tr>\n    <tr>\n      <th>2</th>\n      <td>3</td>\n      <td>5</td>\n      <td>7</td>\n    </tr>\n  </tbody>\n</table>\n</div>"
     },
     "execution_count": 3,
     "metadata": {},
     "output_type": "execute_result"
    }
   ],
   "source": [
    "contoh_data = {\"a\":[1,2,3], \"b\":[3,4,5], \"c\":[5,6,7]}\n",
    "pd.DataFrame(contoh_data)"
   ],
   "metadata": {
    "collapsed": false,
    "ExecuteTime": {
     "end_time": "2023-07-03T08:41:38.958680Z",
     "start_time": "2023-07-03T08:41:38.906478200Z"
    }
   }
  },
  {
   "cell_type": "markdown",
   "source": [
    "# Membaca data dari file\n",
    "\n",
    ".csv = comma separated value"
   ],
   "metadata": {
    "collapsed": false
   }
  },
  {
   "cell_type": "code",
   "execution_count": 6,
   "outputs": [],
   "source": [
    "df = pd.read_csv(\"data\\cereal.csv\")"
   ],
   "metadata": {
    "collapsed": false,
    "ExecuteTime": {
     "end_time": "2023-07-03T08:44:01.833423300Z",
     "start_time": "2023-07-03T08:44:01.804582800Z"
    }
   }
  },
  {
   "cell_type": "code",
   "execution_count": 7,
   "outputs": [
    {
     "data": {
      "text/plain": "                        name mfr type  calories  protein  fat  sodium  fiber  \\\n0                  100% Bran   N    C        70        4    1     130   10.0   \n1          100% Natural Bran   Q    C       120        3    5      15    2.0   \n2                   All-Bran   K    C        70        4    1     260    9.0   \n3  All-Bran with Extra Fiber   K    C        50        4    0     140   14.0   \n4             Almond Delight   R    C       110        2    2     200    1.0   \n\n   carbo  sugars  potass vitamins  shelf  weight  cups     rating  \n0    5.0     6.0   280.0   FDA_25      3     1.0  0.33  68.402973  \n1    8.0     8.0   135.0    FDA_0      3     1.0  1.00  33.983679  \n2    7.0     5.0   320.0   FDA_25      3     1.0  0.33  59.425505  \n3    8.0     0.0   330.0   FDA_25      3     1.0  0.50  93.704912  \n4   14.0     8.0     NaN   FDA_25      3     1.0  0.75  34.384843  ",
      "text/html": "<div>\n<style scoped>\n    .dataframe tbody tr th:only-of-type {\n        vertical-align: middle;\n    }\n\n    .dataframe tbody tr th {\n        vertical-align: top;\n    }\n\n    .dataframe thead th {\n        text-align: right;\n    }\n</style>\n<table border=\"1\" class=\"dataframe\">\n  <thead>\n    <tr style=\"text-align: right;\">\n      <th></th>\n      <th>name</th>\n      <th>mfr</th>\n      <th>type</th>\n      <th>calories</th>\n      <th>protein</th>\n      <th>fat</th>\n      <th>sodium</th>\n      <th>fiber</th>\n      <th>carbo</th>\n      <th>sugars</th>\n      <th>potass</th>\n      <th>vitamins</th>\n      <th>shelf</th>\n      <th>weight</th>\n      <th>cups</th>\n      <th>rating</th>\n    </tr>\n  </thead>\n  <tbody>\n    <tr>\n      <th>0</th>\n      <td>100% Bran</td>\n      <td>N</td>\n      <td>C</td>\n      <td>70</td>\n      <td>4</td>\n      <td>1</td>\n      <td>130</td>\n      <td>10.0</td>\n      <td>5.0</td>\n      <td>6.0</td>\n      <td>280.0</td>\n      <td>FDA_25</td>\n      <td>3</td>\n      <td>1.0</td>\n      <td>0.33</td>\n      <td>68.402973</td>\n    </tr>\n    <tr>\n      <th>1</th>\n      <td>100% Natural Bran</td>\n      <td>Q</td>\n      <td>C</td>\n      <td>120</td>\n      <td>3</td>\n      <td>5</td>\n      <td>15</td>\n      <td>2.0</td>\n      <td>8.0</td>\n      <td>8.0</td>\n      <td>135.0</td>\n      <td>FDA_0</td>\n      <td>3</td>\n      <td>1.0</td>\n      <td>1.00</td>\n      <td>33.983679</td>\n    </tr>\n    <tr>\n      <th>2</th>\n      <td>All-Bran</td>\n      <td>K</td>\n      <td>C</td>\n      <td>70</td>\n      <td>4</td>\n      <td>1</td>\n      <td>260</td>\n      <td>9.0</td>\n      <td>7.0</td>\n      <td>5.0</td>\n      <td>320.0</td>\n      <td>FDA_25</td>\n      <td>3</td>\n      <td>1.0</td>\n      <td>0.33</td>\n      <td>59.425505</td>\n    </tr>\n    <tr>\n      <th>3</th>\n      <td>All-Bran with Extra Fiber</td>\n      <td>K</td>\n      <td>C</td>\n      <td>50</td>\n      <td>4</td>\n      <td>0</td>\n      <td>140</td>\n      <td>14.0</td>\n      <td>8.0</td>\n      <td>0.0</td>\n      <td>330.0</td>\n      <td>FDA_25</td>\n      <td>3</td>\n      <td>1.0</td>\n      <td>0.50</td>\n      <td>93.704912</td>\n    </tr>\n    <tr>\n      <th>4</th>\n      <td>Almond Delight</td>\n      <td>R</td>\n      <td>C</td>\n      <td>110</td>\n      <td>2</td>\n      <td>2</td>\n      <td>200</td>\n      <td>1.0</td>\n      <td>14.0</td>\n      <td>8.0</td>\n      <td>NaN</td>\n      <td>FDA_25</td>\n      <td>3</td>\n      <td>1.0</td>\n      <td>0.75</td>\n      <td>34.384843</td>\n    </tr>\n  </tbody>\n</table>\n</div>"
     },
     "execution_count": 7,
     "metadata": {},
     "output_type": "execute_result"
    }
   ],
   "source": [
    "df.head()"
   ],
   "metadata": {
    "collapsed": false,
    "ExecuteTime": {
     "end_time": "2023-07-03T08:44:06.457234500Z",
     "start_time": "2023-07-03T08:44:06.406232500Z"
    }
   }
  },
  {
   "cell_type": "code",
   "execution_count": 8,
   "outputs": [
    {
     "data": {
      "text/plain": "                   name mfr type  calories  protein  fat  sodium  fiber  \\\n72              Triples   G    C       110        2    1     250    0.0   \n73                 Trix   G    C       110        1    1     140    0.0   \n74           Wheat Chex   R    C       100        3    1     230    3.0   \n75             Wheaties   G    C       100        3    1     200    3.0   \n76  Wheaties Honey Gold   G    C       110        2    1     200    1.0   \n\n    carbo  sugars  potass vitamins  shelf  weight  cups     rating  \n72   21.0     3.0    60.0   FDA_25      3     1.0  0.75  39.106174  \n73   13.0    12.0    25.0   FDA_25      2     1.0  1.00  27.753301  \n74   17.0     3.0   115.0   FDA_25      1     1.0  0.67  49.787445  \n75   17.0     3.0   110.0   FDA_25      1     1.0  1.00  51.592193  \n76   16.0     8.0    60.0   FDA_25      1     1.0  0.75  36.187559  ",
      "text/html": "<div>\n<style scoped>\n    .dataframe tbody tr th:only-of-type {\n        vertical-align: middle;\n    }\n\n    .dataframe tbody tr th {\n        vertical-align: top;\n    }\n\n    .dataframe thead th {\n        text-align: right;\n    }\n</style>\n<table border=\"1\" class=\"dataframe\">\n  <thead>\n    <tr style=\"text-align: right;\">\n      <th></th>\n      <th>name</th>\n      <th>mfr</th>\n      <th>type</th>\n      <th>calories</th>\n      <th>protein</th>\n      <th>fat</th>\n      <th>sodium</th>\n      <th>fiber</th>\n      <th>carbo</th>\n      <th>sugars</th>\n      <th>potass</th>\n      <th>vitamins</th>\n      <th>shelf</th>\n      <th>weight</th>\n      <th>cups</th>\n      <th>rating</th>\n    </tr>\n  </thead>\n  <tbody>\n    <tr>\n      <th>72</th>\n      <td>Triples</td>\n      <td>G</td>\n      <td>C</td>\n      <td>110</td>\n      <td>2</td>\n      <td>1</td>\n      <td>250</td>\n      <td>0.0</td>\n      <td>21.0</td>\n      <td>3.0</td>\n      <td>60.0</td>\n      <td>FDA_25</td>\n      <td>3</td>\n      <td>1.0</td>\n      <td>0.75</td>\n      <td>39.106174</td>\n    </tr>\n    <tr>\n      <th>73</th>\n      <td>Trix</td>\n      <td>G</td>\n      <td>C</td>\n      <td>110</td>\n      <td>1</td>\n      <td>1</td>\n      <td>140</td>\n      <td>0.0</td>\n      <td>13.0</td>\n      <td>12.0</td>\n      <td>25.0</td>\n      <td>FDA_25</td>\n      <td>2</td>\n      <td>1.0</td>\n      <td>1.00</td>\n      <td>27.753301</td>\n    </tr>\n    <tr>\n      <th>74</th>\n      <td>Wheat Chex</td>\n      <td>R</td>\n      <td>C</td>\n      <td>100</td>\n      <td>3</td>\n      <td>1</td>\n      <td>230</td>\n      <td>3.0</td>\n      <td>17.0</td>\n      <td>3.0</td>\n      <td>115.0</td>\n      <td>FDA_25</td>\n      <td>1</td>\n      <td>1.0</td>\n      <td>0.67</td>\n      <td>49.787445</td>\n    </tr>\n    <tr>\n      <th>75</th>\n      <td>Wheaties</td>\n      <td>G</td>\n      <td>C</td>\n      <td>100</td>\n      <td>3</td>\n      <td>1</td>\n      <td>200</td>\n      <td>3.0</td>\n      <td>17.0</td>\n      <td>3.0</td>\n      <td>110.0</td>\n      <td>FDA_25</td>\n      <td>1</td>\n      <td>1.0</td>\n      <td>1.00</td>\n      <td>51.592193</td>\n    </tr>\n    <tr>\n      <th>76</th>\n      <td>Wheaties Honey Gold</td>\n      <td>G</td>\n      <td>C</td>\n      <td>110</td>\n      <td>2</td>\n      <td>1</td>\n      <td>200</td>\n      <td>1.0</td>\n      <td>16.0</td>\n      <td>8.0</td>\n      <td>60.0</td>\n      <td>FDA_25</td>\n      <td>1</td>\n      <td>1.0</td>\n      <td>0.75</td>\n      <td>36.187559</td>\n    </tr>\n  </tbody>\n</table>\n</div>"
     },
     "execution_count": 8,
     "metadata": {},
     "output_type": "execute_result"
    }
   ],
   "source": [
    "df.tail()"
   ],
   "metadata": {
    "collapsed": false,
    "ExecuteTime": {
     "end_time": "2023-07-03T08:44:11.875562300Z",
     "start_time": "2023-07-03T08:44:11.824572100Z"
    }
   }
  },
  {
   "cell_type": "code",
   "execution_count": 9,
   "outputs": [
    {
     "data": {
      "text/plain": "Index(['name', 'mfr', 'type', 'calories', 'protein', 'fat', 'sodium', 'fiber',\n       'carbo', 'sugars', 'potass', 'vitamins', 'shelf', 'weight', 'cups',\n       'rating'],\n      dtype='object')"
     },
     "execution_count": 9,
     "metadata": {},
     "output_type": "execute_result"
    }
   ],
   "source": [
    "df.columns"
   ],
   "metadata": {
    "collapsed": false,
    "ExecuteTime": {
     "end_time": "2023-07-03T08:44:28.170680600Z",
     "start_time": "2023-07-03T08:44:28.145517400Z"
    }
   }
  },
  {
   "cell_type": "code",
   "execution_count": 10,
   "outputs": [
    {
     "data": {
      "text/plain": "RangeIndex(start=0, stop=77, step=1)"
     },
     "execution_count": 10,
     "metadata": {},
     "output_type": "execute_result"
    }
   ],
   "source": [
    "df.index"
   ],
   "metadata": {
    "collapsed": false,
    "ExecuteTime": {
     "end_time": "2023-07-03T08:44:36.569767200Z",
     "start_time": "2023-07-03T08:44:36.471238600Z"
    }
   }
  },
  {
   "cell_type": "code",
   "execution_count": 11,
   "outputs": [
    {
     "data": {
      "text/plain": "(77, 16)"
     },
     "execution_count": 11,
     "metadata": {},
     "output_type": "execute_result"
    }
   ],
   "source": [
    "df.shape"
   ],
   "metadata": {
    "collapsed": false,
    "ExecuteTime": {
     "end_time": "2023-07-03T08:44:55.208806200Z",
     "start_time": "2023-07-03T08:44:55.182550400Z"
    }
   }
  },
  {
   "cell_type": "code",
   "execution_count": 12,
   "outputs": [
    {
     "ename": "NameError",
     "evalue": "name 'illustration' is not defined",
     "output_type": "error",
     "traceback": [
      "\u001B[1;31m---------------------------------------------------------------------------\u001B[0m",
      "\u001B[1;31mNameError\u001B[0m                                 Traceback (most recent call last)",
      "Input \u001B[1;32mIn [12]\u001B[0m, in \u001B[0;36m<cell line: 1>\u001B[1;34m()\u001B[0m\n\u001B[1;32m----> 1\u001B[0m \u001B[43millustration\u001B[49m\u001B[38;5;241m.\u001B[39mnomenklatur\n",
      "\u001B[1;31mNameError\u001B[0m: name 'illustration' is not defined"
     ]
    }
   ],
   "source": [
    "illustration.nomenklatur"
   ],
   "metadata": {
    "collapsed": false,
    "ExecuteTime": {
     "end_time": "2023-07-03T08:45:29.775958900Z",
     "start_time": "2023-07-03T08:45:29.739001700Z"
    }
   }
  },
  {
   "cell_type": "markdown",
   "source": [
    "# Get columns dan rows"
   ],
   "metadata": {
    "collapsed": false
   }
  },
  {
   "cell_type": "code",
   "execution_count": 14,
   "outputs": [
    {
     "data": {
      "text/plain": "0    N\n1    Q\n2    K\n3    K\n4    R\nName: mfr, dtype: object"
     },
     "execution_count": 14,
     "metadata": {},
     "output_type": "execute_result"
    }
   ],
   "source": [
    "df.mfr.head()"
   ],
   "metadata": {
    "collapsed": false,
    "ExecuteTime": {
     "end_time": "2023-07-03T09:49:04.130873Z",
     "start_time": "2023-07-03T09:49:04.083377900Z"
    }
   }
  },
  {
   "cell_type": "code",
   "execution_count": 15,
   "outputs": [
    {
     "data": {
      "text/plain": "0    N\n1    Q\n2    K\n3    K\n4    R\nName: mfr, dtype: object"
     },
     "execution_count": 15,
     "metadata": {},
     "output_type": "execute_result"
    }
   ],
   "source": [
    "df['mfr'].head()"
   ],
   "metadata": {
    "collapsed": false,
    "ExecuteTime": {
     "end_time": "2023-07-03T09:49:21.340914700Z",
     "start_time": "2023-07-03T09:49:21.313163100Z"
    }
   }
  },
  {
   "cell_type": "code",
   "execution_count": 17,
   "outputs": [
    {
     "data": {
      "text/plain": "                        name mfr  calories\n0                  100% Bran   N        70\n1          100% Natural Bran   Q       120\n2                   All-Bran   K        70\n3  All-Bran with Extra Fiber   K        50\n4             Almond Delight   R       110",
      "text/html": "<div>\n<style scoped>\n    .dataframe tbody tr th:only-of-type {\n        vertical-align: middle;\n    }\n\n    .dataframe tbody tr th {\n        vertical-align: top;\n    }\n\n    .dataframe thead th {\n        text-align: right;\n    }\n</style>\n<table border=\"1\" class=\"dataframe\">\n  <thead>\n    <tr style=\"text-align: right;\">\n      <th></th>\n      <th>name</th>\n      <th>mfr</th>\n      <th>calories</th>\n    </tr>\n  </thead>\n  <tbody>\n    <tr>\n      <th>0</th>\n      <td>100% Bran</td>\n      <td>N</td>\n      <td>70</td>\n    </tr>\n    <tr>\n      <th>1</th>\n      <td>100% Natural Bran</td>\n      <td>Q</td>\n      <td>120</td>\n    </tr>\n    <tr>\n      <th>2</th>\n      <td>All-Bran</td>\n      <td>K</td>\n      <td>70</td>\n    </tr>\n    <tr>\n      <th>3</th>\n      <td>All-Bran with Extra Fiber</td>\n      <td>K</td>\n      <td>50</td>\n    </tr>\n    <tr>\n      <th>4</th>\n      <td>Almond Delight</td>\n      <td>R</td>\n      <td>110</td>\n    </tr>\n  </tbody>\n</table>\n</div>"
     },
     "execution_count": 17,
     "metadata": {},
     "output_type": "execute_result"
    }
   ],
   "source": [
    "df[['name', 'mfr', 'calories']].head()"
   ],
   "metadata": {
    "collapsed": false,
    "ExecuteTime": {
     "end_time": "2023-07-03T09:52:01.780782700Z",
     "start_time": "2023-07-03T09:52:01.744470600Z"
    }
   }
  },
  {
   "cell_type": "code",
   "execution_count": 18,
   "outputs": [
    {
     "data": {
      "text/plain": "                      name mfr  calories\n5  Apple Cinnamon Cheerios   G       110\n6              Apple Jacks   K       110\n7                  Basic 4   G       130\n8                Bran Chex   R        90\n9              Bran Flakes   P        90",
      "text/html": "<div>\n<style scoped>\n    .dataframe tbody tr th:only-of-type {\n        vertical-align: middle;\n    }\n\n    .dataframe tbody tr th {\n        vertical-align: top;\n    }\n\n    .dataframe thead th {\n        text-align: right;\n    }\n</style>\n<table border=\"1\" class=\"dataframe\">\n  <thead>\n    <tr style=\"text-align: right;\">\n      <th></th>\n      <th>name</th>\n      <th>mfr</th>\n      <th>calories</th>\n    </tr>\n  </thead>\n  <tbody>\n    <tr>\n      <th>5</th>\n      <td>Apple Cinnamon Cheerios</td>\n      <td>G</td>\n      <td>110</td>\n    </tr>\n    <tr>\n      <th>6</th>\n      <td>Apple Jacks</td>\n      <td>K</td>\n      <td>110</td>\n    </tr>\n    <tr>\n      <th>7</th>\n      <td>Basic 4</td>\n      <td>G</td>\n      <td>130</td>\n    </tr>\n    <tr>\n      <th>8</th>\n      <td>Bran Chex</td>\n      <td>R</td>\n      <td>90</td>\n    </tr>\n    <tr>\n      <th>9</th>\n      <td>Bran Flakes</td>\n      <td>P</td>\n      <td>90</td>\n    </tr>\n  </tbody>\n</table>\n</div>"
     },
     "execution_count": 18,
     "metadata": {},
     "output_type": "execute_result"
    }
   ],
   "source": [
    "df[['name', 'mfr', 'calories']][5:10]"
   ],
   "metadata": {
    "collapsed": false,
    "ExecuteTime": {
     "end_time": "2023-07-03T10:49:21.261395200Z",
     "start_time": "2023-07-03T10:49:21.242699600Z"
    }
   }
  },
  {
   "cell_type": "markdown",
   "source": [
    "# Slicing menggunakan .iloc dan .loc"
   ],
   "metadata": {
    "collapsed": false
   }
  },
  {
   "cell_type": "code",
   "execution_count": 19,
   "outputs": [
    {
     "data": {
      "text/plain": "  type  calories  protein  fat\n1    C       120        3    5\n2    C        70        4    1\n3    C        50        4    0\n4    C       110        2    2",
      "text/html": "<div>\n<style scoped>\n    .dataframe tbody tr th:only-of-type {\n        vertical-align: middle;\n    }\n\n    .dataframe tbody tr th {\n        vertical-align: top;\n    }\n\n    .dataframe thead th {\n        text-align: right;\n    }\n</style>\n<table border=\"1\" class=\"dataframe\">\n  <thead>\n    <tr style=\"text-align: right;\">\n      <th></th>\n      <th>type</th>\n      <th>calories</th>\n      <th>protein</th>\n      <th>fat</th>\n    </tr>\n  </thead>\n  <tbody>\n    <tr>\n      <th>1</th>\n      <td>C</td>\n      <td>120</td>\n      <td>3</td>\n      <td>5</td>\n    </tr>\n    <tr>\n      <th>2</th>\n      <td>C</td>\n      <td>70</td>\n      <td>4</td>\n      <td>1</td>\n    </tr>\n    <tr>\n      <th>3</th>\n      <td>C</td>\n      <td>50</td>\n      <td>4</td>\n      <td>0</td>\n    </tr>\n    <tr>\n      <th>4</th>\n      <td>C</td>\n      <td>110</td>\n      <td>2</td>\n      <td>2</td>\n    </tr>\n  </tbody>\n</table>\n</div>"
     },
     "execution_count": 19,
     "metadata": {},
     "output_type": "execute_result"
    }
   ],
   "source": [
    "df.loc[1:4, \"type\":\"fat\"]"
   ],
   "metadata": {
    "collapsed": false,
    "ExecuteTime": {
     "end_time": "2023-07-03T10:52:55.245062700Z",
     "start_time": "2023-07-03T10:52:55.240058700Z"
    }
   }
  },
  {
   "cell_type": "code",
   "execution_count": 21,
   "outputs": [
    {
     "data": {
      "text/plain": "   calories  protein\n1       120        3\n2        70        4\n3        50        4",
      "text/html": "<div>\n<style scoped>\n    .dataframe tbody tr th:only-of-type {\n        vertical-align: middle;\n    }\n\n    .dataframe tbody tr th {\n        vertical-align: top;\n    }\n\n    .dataframe thead th {\n        text-align: right;\n    }\n</style>\n<table border=\"1\" class=\"dataframe\">\n  <thead>\n    <tr style=\"text-align: right;\">\n      <th></th>\n      <th>calories</th>\n      <th>protein</th>\n    </tr>\n  </thead>\n  <tbody>\n    <tr>\n      <th>1</th>\n      <td>120</td>\n      <td>3</td>\n    </tr>\n    <tr>\n      <th>2</th>\n      <td>70</td>\n      <td>4</td>\n    </tr>\n    <tr>\n      <th>3</th>\n      <td>50</td>\n      <td>4</td>\n    </tr>\n  </tbody>\n</table>\n</div>"
     },
     "execution_count": 21,
     "metadata": {},
     "output_type": "execute_result"
    }
   ],
   "source": [
    "df.iloc[1:4, 3:5]"
   ],
   "metadata": {
    "collapsed": false,
    "ExecuteTime": {
     "end_time": "2023-07-03T11:39:21.746967100Z",
     "start_time": "2023-07-03T11:39:21.731694500Z"
    }
   }
  },
  {
   "cell_type": "code",
   "execution_count": 22,
   "outputs": [
    {
     "data": {
      "text/plain": "                        name mfr type  calories  protein  fat  sodium  fiber  \\\n0                  100% Bran   N    C        70        4    1     130   10.0   \n1          100% Natural Bran   Q    C       120        3    5      15    2.0   \n2                   All-Bran   K    C        70        4    1     260    9.0   \n3  All-Bran with Extra Fiber   K    C        50        4    0     140   14.0   \n4             Almond Delight   R    C       110        2    2     200    1.0   \n\n   carbo  sugars  potass vitamins  shelf  weight  cups     rating  \n0    5.0     6.0   280.0   FDA_25      3     1.0  0.33  68.402973  \n1    8.0     8.0   135.0    FDA_0      3     1.0  1.00  33.983679  \n2    7.0     5.0   320.0   FDA_25      3     1.0  0.33  59.425505  \n3    8.0     0.0   330.0   FDA_25      3     1.0  0.50  93.704912  \n4   14.0     8.0     NaN   FDA_25      3     1.0  0.75  34.384843  ",
      "text/html": "<div>\n<style scoped>\n    .dataframe tbody tr th:only-of-type {\n        vertical-align: middle;\n    }\n\n    .dataframe tbody tr th {\n        vertical-align: top;\n    }\n\n    .dataframe thead th {\n        text-align: right;\n    }\n</style>\n<table border=\"1\" class=\"dataframe\">\n  <thead>\n    <tr style=\"text-align: right;\">\n      <th></th>\n      <th>name</th>\n      <th>mfr</th>\n      <th>type</th>\n      <th>calories</th>\n      <th>protein</th>\n      <th>fat</th>\n      <th>sodium</th>\n      <th>fiber</th>\n      <th>carbo</th>\n      <th>sugars</th>\n      <th>potass</th>\n      <th>vitamins</th>\n      <th>shelf</th>\n      <th>weight</th>\n      <th>cups</th>\n      <th>rating</th>\n    </tr>\n  </thead>\n  <tbody>\n    <tr>\n      <th>0</th>\n      <td>100% Bran</td>\n      <td>N</td>\n      <td>C</td>\n      <td>70</td>\n      <td>4</td>\n      <td>1</td>\n      <td>130</td>\n      <td>10.0</td>\n      <td>5.0</td>\n      <td>6.0</td>\n      <td>280.0</td>\n      <td>FDA_25</td>\n      <td>3</td>\n      <td>1.0</td>\n      <td>0.33</td>\n      <td>68.402973</td>\n    </tr>\n    <tr>\n      <th>1</th>\n      <td>100% Natural Bran</td>\n      <td>Q</td>\n      <td>C</td>\n      <td>120</td>\n      <td>3</td>\n      <td>5</td>\n      <td>15</td>\n      <td>2.0</td>\n      <td>8.0</td>\n      <td>8.0</td>\n      <td>135.0</td>\n      <td>FDA_0</td>\n      <td>3</td>\n      <td>1.0</td>\n      <td>1.00</td>\n      <td>33.983679</td>\n    </tr>\n    <tr>\n      <th>2</th>\n      <td>All-Bran</td>\n      <td>K</td>\n      <td>C</td>\n      <td>70</td>\n      <td>4</td>\n      <td>1</td>\n      <td>260</td>\n      <td>9.0</td>\n      <td>7.0</td>\n      <td>5.0</td>\n      <td>320.0</td>\n      <td>FDA_25</td>\n      <td>3</td>\n      <td>1.0</td>\n      <td>0.33</td>\n      <td>59.425505</td>\n    </tr>\n    <tr>\n      <th>3</th>\n      <td>All-Bran with Extra Fiber</td>\n      <td>K</td>\n      <td>C</td>\n      <td>50</td>\n      <td>4</td>\n      <td>0</td>\n      <td>140</td>\n      <td>14.0</td>\n      <td>8.0</td>\n      <td>0.0</td>\n      <td>330.0</td>\n      <td>FDA_25</td>\n      <td>3</td>\n      <td>1.0</td>\n      <td>0.50</td>\n      <td>93.704912</td>\n    </tr>\n    <tr>\n      <th>4</th>\n      <td>Almond Delight</td>\n      <td>R</td>\n      <td>C</td>\n      <td>110</td>\n      <td>2</td>\n      <td>2</td>\n      <td>200</td>\n      <td>1.0</td>\n      <td>14.0</td>\n      <td>8.0</td>\n      <td>NaN</td>\n      <td>FDA_25</td>\n      <td>3</td>\n      <td>1.0</td>\n      <td>0.75</td>\n      <td>34.384843</td>\n    </tr>\n  </tbody>\n</table>\n</div>"
     },
     "execution_count": 22,
     "metadata": {},
     "output_type": "execute_result"
    }
   ],
   "source": [
    "df.head()"
   ],
   "metadata": {
    "collapsed": false,
    "ExecuteTime": {
     "end_time": "2023-07-03T11:39:31.232956900Z",
     "start_time": "2023-07-03T11:39:31.214614700Z"
    }
   }
  },
  {
   "cell_type": "code",
   "execution_count": 23,
   "outputs": [
    {
     "data": {
      "text/plain": "                        name  fat     rating\n1          100% Natural Bran    5  33.983679\n2                   All-Bran    1  59.425505\n3  All-Bran with Extra Fiber    0  93.704912\n4             Almond Delight    2  34.384843",
      "text/html": "<div>\n<style scoped>\n    .dataframe tbody tr th:only-of-type {\n        vertical-align: middle;\n    }\n\n    .dataframe tbody tr th {\n        vertical-align: top;\n    }\n\n    .dataframe thead th {\n        text-align: right;\n    }\n</style>\n<table border=\"1\" class=\"dataframe\">\n  <thead>\n    <tr style=\"text-align: right;\">\n      <th></th>\n      <th>name</th>\n      <th>fat</th>\n      <th>rating</th>\n    </tr>\n  </thead>\n  <tbody>\n    <tr>\n      <th>1</th>\n      <td>100% Natural Bran</td>\n      <td>5</td>\n      <td>33.983679</td>\n    </tr>\n    <tr>\n      <th>2</th>\n      <td>All-Bran</td>\n      <td>1</td>\n      <td>59.425505</td>\n    </tr>\n    <tr>\n      <th>3</th>\n      <td>All-Bran with Extra Fiber</td>\n      <td>0</td>\n      <td>93.704912</td>\n    </tr>\n    <tr>\n      <th>4</th>\n      <td>Almond Delight</td>\n      <td>2</td>\n      <td>34.384843</td>\n    </tr>\n  </tbody>\n</table>\n</div>"
     },
     "execution_count": 23,
     "metadata": {},
     "output_type": "execute_result"
    }
   ],
   "source": [
    "df.loc[1:4, [\"name\", \"fat\", \"rating\"]]"
   ],
   "metadata": {
    "collapsed": false,
    "ExecuteTime": {
     "end_time": "2023-07-03T11:40:26.083384100Z",
     "start_time": "2023-07-03T11:40:26.061758400Z"
    }
   }
  },
  {
   "cell_type": "code",
   "execution_count": 25,
   "outputs": [
    {
     "data": {
      "text/plain": "  type  sodium  carbo\n1    C      15    8.0\n2    C     260    7.0\n3    C     140    8.0",
      "text/html": "<div>\n<style scoped>\n    .dataframe tbody tr th:only-of-type {\n        vertical-align: middle;\n    }\n\n    .dataframe tbody tr th {\n        vertical-align: top;\n    }\n\n    .dataframe thead th {\n        text-align: right;\n    }\n</style>\n<table border=\"1\" class=\"dataframe\">\n  <thead>\n    <tr style=\"text-align: right;\">\n      <th></th>\n      <th>type</th>\n      <th>sodium</th>\n      <th>carbo</th>\n    </tr>\n  </thead>\n  <tbody>\n    <tr>\n      <th>1</th>\n      <td>C</td>\n      <td>15</td>\n      <td>8.0</td>\n    </tr>\n    <tr>\n      <th>2</th>\n      <td>C</td>\n      <td>260</td>\n      <td>7.0</td>\n    </tr>\n    <tr>\n      <th>3</th>\n      <td>C</td>\n      <td>140</td>\n      <td>8.0</td>\n    </tr>\n  </tbody>\n</table>\n</div>"
     },
     "execution_count": 25,
     "metadata": {},
     "output_type": "execute_result"
    }
   ],
   "source": [
    "df.iloc[1:4, [2,6,8]]"
   ],
   "metadata": {
    "collapsed": false,
    "ExecuteTime": {
     "end_time": "2023-07-03T11:41:03.412414Z",
     "start_time": "2023-07-03T11:41:03.389895200Z"
    }
   }
  },
  {
   "cell_type": "markdown",
   "source": [
    "### mengganti kolom index"
   ],
   "metadata": {
    "collapsed": false
   }
  },
  {
   "cell_type": "code",
   "execution_count": 26,
   "outputs": [
    {
     "data": {
      "text/plain": "                          mfr type  calories  protein  fat  sodium  fiber  \\\nname                                                                        \n100% Bran                   N    C        70        4    1     130   10.0   \n100% Natural Bran           Q    C       120        3    5      15    2.0   \nAll-Bran                    K    C        70        4    1     260    9.0   \nAll-Bran with Extra Fiber   K    C        50        4    0     140   14.0   \nAlmond Delight              R    C       110        2    2     200    1.0   \n\n                           carbo  sugars  potass vitamins  shelf  weight  \\\nname                                                                       \n100% Bran                    5.0     6.0   280.0   FDA_25      3     1.0   \n100% Natural Bran            8.0     8.0   135.0    FDA_0      3     1.0   \nAll-Bran                     7.0     5.0   320.0   FDA_25      3     1.0   \nAll-Bran with Extra Fiber    8.0     0.0   330.0   FDA_25      3     1.0   \nAlmond Delight              14.0     8.0     NaN   FDA_25      3     1.0   \n\n                           cups     rating  \nname                                        \n100% Bran                  0.33  68.402973  \n100% Natural Bran          1.00  33.983679  \nAll-Bran                   0.33  59.425505  \nAll-Bran with Extra Fiber  0.50  93.704912  \nAlmond Delight             0.75  34.384843  ",
      "text/html": "<div>\n<style scoped>\n    .dataframe tbody tr th:only-of-type {\n        vertical-align: middle;\n    }\n\n    .dataframe tbody tr th {\n        vertical-align: top;\n    }\n\n    .dataframe thead th {\n        text-align: right;\n    }\n</style>\n<table border=\"1\" class=\"dataframe\">\n  <thead>\n    <tr style=\"text-align: right;\">\n      <th></th>\n      <th>mfr</th>\n      <th>type</th>\n      <th>calories</th>\n      <th>protein</th>\n      <th>fat</th>\n      <th>sodium</th>\n      <th>fiber</th>\n      <th>carbo</th>\n      <th>sugars</th>\n      <th>potass</th>\n      <th>vitamins</th>\n      <th>shelf</th>\n      <th>weight</th>\n      <th>cups</th>\n      <th>rating</th>\n    </tr>\n    <tr>\n      <th>name</th>\n      <th></th>\n      <th></th>\n      <th></th>\n      <th></th>\n      <th></th>\n      <th></th>\n      <th></th>\n      <th></th>\n      <th></th>\n      <th></th>\n      <th></th>\n      <th></th>\n      <th></th>\n      <th></th>\n      <th></th>\n    </tr>\n  </thead>\n  <tbody>\n    <tr>\n      <th>100% Bran</th>\n      <td>N</td>\n      <td>C</td>\n      <td>70</td>\n      <td>4</td>\n      <td>1</td>\n      <td>130</td>\n      <td>10.0</td>\n      <td>5.0</td>\n      <td>6.0</td>\n      <td>280.0</td>\n      <td>FDA_25</td>\n      <td>3</td>\n      <td>1.0</td>\n      <td>0.33</td>\n      <td>68.402973</td>\n    </tr>\n    <tr>\n      <th>100% Natural Bran</th>\n      <td>Q</td>\n      <td>C</td>\n      <td>120</td>\n      <td>3</td>\n      <td>5</td>\n      <td>15</td>\n      <td>2.0</td>\n      <td>8.0</td>\n      <td>8.0</td>\n      <td>135.0</td>\n      <td>FDA_0</td>\n      <td>3</td>\n      <td>1.0</td>\n      <td>1.00</td>\n      <td>33.983679</td>\n    </tr>\n    <tr>\n      <th>All-Bran</th>\n      <td>K</td>\n      <td>C</td>\n      <td>70</td>\n      <td>4</td>\n      <td>1</td>\n      <td>260</td>\n      <td>9.0</td>\n      <td>7.0</td>\n      <td>5.0</td>\n      <td>320.0</td>\n      <td>FDA_25</td>\n      <td>3</td>\n      <td>1.0</td>\n      <td>0.33</td>\n      <td>59.425505</td>\n    </tr>\n    <tr>\n      <th>All-Bran with Extra Fiber</th>\n      <td>K</td>\n      <td>C</td>\n      <td>50</td>\n      <td>4</td>\n      <td>0</td>\n      <td>140</td>\n      <td>14.0</td>\n      <td>8.0</td>\n      <td>0.0</td>\n      <td>330.0</td>\n      <td>FDA_25</td>\n      <td>3</td>\n      <td>1.0</td>\n      <td>0.50</td>\n      <td>93.704912</td>\n    </tr>\n    <tr>\n      <th>Almond Delight</th>\n      <td>R</td>\n      <td>C</td>\n      <td>110</td>\n      <td>2</td>\n      <td>2</td>\n      <td>200</td>\n      <td>1.0</td>\n      <td>14.0</td>\n      <td>8.0</td>\n      <td>NaN</td>\n      <td>FDA_25</td>\n      <td>3</td>\n      <td>1.0</td>\n      <td>0.75</td>\n      <td>34.384843</td>\n    </tr>\n  </tbody>\n</table>\n</div>"
     },
     "execution_count": 26,
     "metadata": {},
     "output_type": "execute_result"
    }
   ],
   "source": [
    "df = pd.read_csv(\"data/cereal.csv\", index_col=\"name\")\n",
    "df.head()"
   ],
   "metadata": {
    "collapsed": false,
    "ExecuteTime": {
     "end_time": "2023-07-03T11:42:20.137224Z",
     "start_time": "2023-07-03T11:42:20.103294700Z"
    }
   }
  },
  {
   "cell_type": "code",
   "execution_count": 27,
   "outputs": [
    {
     "data": {
      "text/plain": "                           calories  protein  fat  sodium  fiber  carbo  \\\nname                                                                      \nAll-Bran                         70        4    1     260    9.0    7.0   \nAll-Bran with Extra Fiber        50        4    0     140   14.0    8.0   \nAlmond Delight                  110        2    2     200    1.0   14.0   \nApple Cinnamon Cheerios         110        2    2     180    1.5   10.5   \nApple Jacks                     110        2    0     125    1.0   11.0   \nBasic 4                         130        3    2     210    2.0   18.0   \nBran Chex                        90        2    1     200    4.0   15.0   \nBran Flakes                      90        3    0     210    5.0   13.0   \n\n                           sugars  potass vitamins  shelf  \nname                                                       \nAll-Bran                      5.0   320.0   FDA_25      3  \nAll-Bran with Extra Fiber     0.0   330.0   FDA_25      3  \nAlmond Delight                8.0     NaN   FDA_25      3  \nApple Cinnamon Cheerios      10.0    70.0   FDA_25      1  \nApple Jacks                  14.0    30.0   FDA_25      2  \nBasic 4                       8.0   100.0   FDA_25      3  \nBran Chex                     6.0   125.0   FDA_25      1  \nBran Flakes                   5.0   190.0   FDA_25      3  ",
      "text/html": "<div>\n<style scoped>\n    .dataframe tbody tr th:only-of-type {\n        vertical-align: middle;\n    }\n\n    .dataframe tbody tr th {\n        vertical-align: top;\n    }\n\n    .dataframe thead th {\n        text-align: right;\n    }\n</style>\n<table border=\"1\" class=\"dataframe\">\n  <thead>\n    <tr style=\"text-align: right;\">\n      <th></th>\n      <th>calories</th>\n      <th>protein</th>\n      <th>fat</th>\n      <th>sodium</th>\n      <th>fiber</th>\n      <th>carbo</th>\n      <th>sugars</th>\n      <th>potass</th>\n      <th>vitamins</th>\n      <th>shelf</th>\n    </tr>\n    <tr>\n      <th>name</th>\n      <th></th>\n      <th></th>\n      <th></th>\n      <th></th>\n      <th></th>\n      <th></th>\n      <th></th>\n      <th></th>\n      <th></th>\n      <th></th>\n    </tr>\n  </thead>\n  <tbody>\n    <tr>\n      <th>All-Bran</th>\n      <td>70</td>\n      <td>4</td>\n      <td>1</td>\n      <td>260</td>\n      <td>9.0</td>\n      <td>7.0</td>\n      <td>5.0</td>\n      <td>320.0</td>\n      <td>FDA_25</td>\n      <td>3</td>\n    </tr>\n    <tr>\n      <th>All-Bran with Extra Fiber</th>\n      <td>50</td>\n      <td>4</td>\n      <td>0</td>\n      <td>140</td>\n      <td>14.0</td>\n      <td>8.0</td>\n      <td>0.0</td>\n      <td>330.0</td>\n      <td>FDA_25</td>\n      <td>3</td>\n    </tr>\n    <tr>\n      <th>Almond Delight</th>\n      <td>110</td>\n      <td>2</td>\n      <td>2</td>\n      <td>200</td>\n      <td>1.0</td>\n      <td>14.0</td>\n      <td>8.0</td>\n      <td>NaN</td>\n      <td>FDA_25</td>\n      <td>3</td>\n    </tr>\n    <tr>\n      <th>Apple Cinnamon Cheerios</th>\n      <td>110</td>\n      <td>2</td>\n      <td>2</td>\n      <td>180</td>\n      <td>1.5</td>\n      <td>10.5</td>\n      <td>10.0</td>\n      <td>70.0</td>\n      <td>FDA_25</td>\n      <td>1</td>\n    </tr>\n    <tr>\n      <th>Apple Jacks</th>\n      <td>110</td>\n      <td>2</td>\n      <td>0</td>\n      <td>125</td>\n      <td>1.0</td>\n      <td>11.0</td>\n      <td>14.0</td>\n      <td>30.0</td>\n      <td>FDA_25</td>\n      <td>2</td>\n    </tr>\n    <tr>\n      <th>Basic 4</th>\n      <td>130</td>\n      <td>3</td>\n      <td>2</td>\n      <td>210</td>\n      <td>2.0</td>\n      <td>18.0</td>\n      <td>8.0</td>\n      <td>100.0</td>\n      <td>FDA_25</td>\n      <td>3</td>\n    </tr>\n    <tr>\n      <th>Bran Chex</th>\n      <td>90</td>\n      <td>2</td>\n      <td>1</td>\n      <td>200</td>\n      <td>4.0</td>\n      <td>15.0</td>\n      <td>6.0</td>\n      <td>125.0</td>\n      <td>FDA_25</td>\n      <td>1</td>\n    </tr>\n    <tr>\n      <th>Bran Flakes</th>\n      <td>90</td>\n      <td>3</td>\n      <td>0</td>\n      <td>210</td>\n      <td>5.0</td>\n      <td>13.0</td>\n      <td>5.0</td>\n      <td>190.0</td>\n      <td>FDA_25</td>\n      <td>3</td>\n    </tr>\n  </tbody>\n</table>\n</div>"
     },
     "execution_count": 27,
     "metadata": {},
     "output_type": "execute_result"
    }
   ],
   "source": [
    "df.loc['All-Bran':'Bran Flakes', \"calories\":\"shelf\"]"
   ],
   "metadata": {
    "collapsed": false,
    "ExecuteTime": {
     "end_time": "2023-07-03T11:43:30.622529500Z",
     "start_time": "2023-07-03T11:43:30.596135200Z"
    }
   }
  },
  {
   "cell_type": "code",
   "execution_count": 28,
   "outputs": [
    {
     "data": {
      "text/plain": "                         protein  fat  sodium  fiber  carbo\nname                                                       \nApple Cinnamon Cheerios        2    2     180    1.5   10.5\nApple Jacks                    2    0     125    1.0   11.0\nBasic 4                        3    2     210    2.0   18.0\nBran Chex                      2    1     200    4.0   15.0\nBran Flakes                    3    0     210    5.0   13.0",
      "text/html": "<div>\n<style scoped>\n    .dataframe tbody tr th:only-of-type {\n        vertical-align: middle;\n    }\n\n    .dataframe tbody tr th {\n        vertical-align: top;\n    }\n\n    .dataframe thead th {\n        text-align: right;\n    }\n</style>\n<table border=\"1\" class=\"dataframe\">\n  <thead>\n    <tr style=\"text-align: right;\">\n      <th></th>\n      <th>protein</th>\n      <th>fat</th>\n      <th>sodium</th>\n      <th>fiber</th>\n      <th>carbo</th>\n    </tr>\n    <tr>\n      <th>name</th>\n      <th></th>\n      <th></th>\n      <th></th>\n      <th></th>\n      <th></th>\n    </tr>\n  </thead>\n  <tbody>\n    <tr>\n      <th>Apple Cinnamon Cheerios</th>\n      <td>2</td>\n      <td>2</td>\n      <td>180</td>\n      <td>1.5</td>\n      <td>10.5</td>\n    </tr>\n    <tr>\n      <th>Apple Jacks</th>\n      <td>2</td>\n      <td>0</td>\n      <td>125</td>\n      <td>1.0</td>\n      <td>11.0</td>\n    </tr>\n    <tr>\n      <th>Basic 4</th>\n      <td>3</td>\n      <td>2</td>\n      <td>210</td>\n      <td>2.0</td>\n      <td>18.0</td>\n    </tr>\n    <tr>\n      <th>Bran Chex</th>\n      <td>2</td>\n      <td>1</td>\n      <td>200</td>\n      <td>4.0</td>\n      <td>15.0</td>\n    </tr>\n    <tr>\n      <th>Bran Flakes</th>\n      <td>3</td>\n      <td>0</td>\n      <td>210</td>\n      <td>5.0</td>\n      <td>13.0</td>\n    </tr>\n  </tbody>\n</table>\n</div>"
     },
     "execution_count": 28,
     "metadata": {},
     "output_type": "execute_result"
    }
   ],
   "source": [
    "df.iloc[5:10, 3:8]"
   ],
   "metadata": {
    "collapsed": false,
    "ExecuteTime": {
     "end_time": "2023-07-03T11:50:01.350378600Z",
     "start_time": "2023-07-03T11:50:01.343727400Z"
    }
   }
  },
  {
   "cell_type": "markdown",
   "source": [
    "# DataFrame Summary"
   ],
   "metadata": {
    "collapsed": false
   }
  },
  {
   "cell_type": "markdown",
   "source": [
    "### statistic"
   ],
   "metadata": {
    "collapsed": false
   }
  },
  {
   "cell_type": "code",
   "execution_count": 29,
   "outputs": [
    {
     "data": {
      "text/plain": "          calories   protein       fat    sodium     fiber     carbo  \\\ncalories  1.000000  0.019066  0.498610  0.300649 -0.293413  0.257638   \nprotein   0.019066  1.000000  0.208431 -0.054674  0.500330 -0.025012   \nfat       0.498610  0.208431  1.000000 -0.005407  0.016719 -0.300003   \nsodium    0.300649 -0.054674 -0.005407  1.000000 -0.070675  0.297687   \nfiber    -0.293413  0.500330  0.016719 -0.070675  1.000000 -0.380357   \ncarbo     0.257638 -0.025012 -0.300003  0.297687 -0.380357  1.000000   \nsugars    0.566533 -0.291853  0.302497  0.058866 -0.138760 -0.471184   \npotass   -0.072063  0.563706  0.200445 -0.042632  0.911528 -0.365003   \nshelf     0.097234  0.133865  0.263691 -0.069719  0.297539 -0.192650   \nweight    0.696091  0.216158  0.214625  0.308576  0.247226  0.138467   \ncups      0.087200 -0.244469 -0.175892  0.119665 -0.513061  0.367460   \nrating   -0.689376  0.470618 -0.409284 -0.401295  0.584160  0.088712   \n\n            sugars    potass     shelf    weight      cups    rating  \ncalories  0.566533 -0.072063  0.097234  0.696091  0.087200 -0.689376  \nprotein  -0.291853  0.563706  0.133865  0.216158 -0.244469  0.470618  \nfat       0.302497  0.200445  0.263691  0.214625 -0.175892 -0.409284  \nsodium    0.058866 -0.042632 -0.069719  0.308576  0.119665 -0.401295  \nfiber    -0.138760  0.911528  0.297539  0.247226 -0.513061  0.584160  \ncarbo    -0.471184 -0.365003 -0.192650  0.138467  0.367460  0.088712  \nsugars    1.000000  0.001414  0.068377  0.455844 -0.048961 -0.763902  \npotass    0.001414  1.000000  0.385784  0.419933 -0.501607  0.416009  \nshelf     0.068377  0.385784  1.000000  0.190762 -0.335269  0.025159  \nweight    0.455844  0.419933  0.190762  1.000000 -0.199583 -0.298124  \ncups     -0.048961 -0.501607 -0.335269 -0.199583  1.000000 -0.203160  \nrating   -0.763902  0.416009  0.025159 -0.298124 -0.203160  1.000000  ",
      "text/html": "<div>\n<style scoped>\n    .dataframe tbody tr th:only-of-type {\n        vertical-align: middle;\n    }\n\n    .dataframe tbody tr th {\n        vertical-align: top;\n    }\n\n    .dataframe thead th {\n        text-align: right;\n    }\n</style>\n<table border=\"1\" class=\"dataframe\">\n  <thead>\n    <tr style=\"text-align: right;\">\n      <th></th>\n      <th>calories</th>\n      <th>protein</th>\n      <th>fat</th>\n      <th>sodium</th>\n      <th>fiber</th>\n      <th>carbo</th>\n      <th>sugars</th>\n      <th>potass</th>\n      <th>shelf</th>\n      <th>weight</th>\n      <th>cups</th>\n      <th>rating</th>\n    </tr>\n  </thead>\n  <tbody>\n    <tr>\n      <th>calories</th>\n      <td>1.000000</td>\n      <td>0.019066</td>\n      <td>0.498610</td>\n      <td>0.300649</td>\n      <td>-0.293413</td>\n      <td>0.257638</td>\n      <td>0.566533</td>\n      <td>-0.072063</td>\n      <td>0.097234</td>\n      <td>0.696091</td>\n      <td>0.087200</td>\n      <td>-0.689376</td>\n    </tr>\n    <tr>\n      <th>protein</th>\n      <td>0.019066</td>\n      <td>1.000000</td>\n      <td>0.208431</td>\n      <td>-0.054674</td>\n      <td>0.500330</td>\n      <td>-0.025012</td>\n      <td>-0.291853</td>\n      <td>0.563706</td>\n      <td>0.133865</td>\n      <td>0.216158</td>\n      <td>-0.244469</td>\n      <td>0.470618</td>\n    </tr>\n    <tr>\n      <th>fat</th>\n      <td>0.498610</td>\n      <td>0.208431</td>\n      <td>1.000000</td>\n      <td>-0.005407</td>\n      <td>0.016719</td>\n      <td>-0.300003</td>\n      <td>0.302497</td>\n      <td>0.200445</td>\n      <td>0.263691</td>\n      <td>0.214625</td>\n      <td>-0.175892</td>\n      <td>-0.409284</td>\n    </tr>\n    <tr>\n      <th>sodium</th>\n      <td>0.300649</td>\n      <td>-0.054674</td>\n      <td>-0.005407</td>\n      <td>1.000000</td>\n      <td>-0.070675</td>\n      <td>0.297687</td>\n      <td>0.058866</td>\n      <td>-0.042632</td>\n      <td>-0.069719</td>\n      <td>0.308576</td>\n      <td>0.119665</td>\n      <td>-0.401295</td>\n    </tr>\n    <tr>\n      <th>fiber</th>\n      <td>-0.293413</td>\n      <td>0.500330</td>\n      <td>0.016719</td>\n      <td>-0.070675</td>\n      <td>1.000000</td>\n      <td>-0.380357</td>\n      <td>-0.138760</td>\n      <td>0.911528</td>\n      <td>0.297539</td>\n      <td>0.247226</td>\n      <td>-0.513061</td>\n      <td>0.584160</td>\n    </tr>\n    <tr>\n      <th>carbo</th>\n      <td>0.257638</td>\n      <td>-0.025012</td>\n      <td>-0.300003</td>\n      <td>0.297687</td>\n      <td>-0.380357</td>\n      <td>1.000000</td>\n      <td>-0.471184</td>\n      <td>-0.365003</td>\n      <td>-0.192650</td>\n      <td>0.138467</td>\n      <td>0.367460</td>\n      <td>0.088712</td>\n    </tr>\n    <tr>\n      <th>sugars</th>\n      <td>0.566533</td>\n      <td>-0.291853</td>\n      <td>0.302497</td>\n      <td>0.058866</td>\n      <td>-0.138760</td>\n      <td>-0.471184</td>\n      <td>1.000000</td>\n      <td>0.001414</td>\n      <td>0.068377</td>\n      <td>0.455844</td>\n      <td>-0.048961</td>\n      <td>-0.763902</td>\n    </tr>\n    <tr>\n      <th>potass</th>\n      <td>-0.072063</td>\n      <td>0.563706</td>\n      <td>0.200445</td>\n      <td>-0.042632</td>\n      <td>0.911528</td>\n      <td>-0.365003</td>\n      <td>0.001414</td>\n      <td>1.000000</td>\n      <td>0.385784</td>\n      <td>0.419933</td>\n      <td>-0.501607</td>\n      <td>0.416009</td>\n    </tr>\n    <tr>\n      <th>shelf</th>\n      <td>0.097234</td>\n      <td>0.133865</td>\n      <td>0.263691</td>\n      <td>-0.069719</td>\n      <td>0.297539</td>\n      <td>-0.192650</td>\n      <td>0.068377</td>\n      <td>0.385784</td>\n      <td>1.000000</td>\n      <td>0.190762</td>\n      <td>-0.335269</td>\n      <td>0.025159</td>\n    </tr>\n    <tr>\n      <th>weight</th>\n      <td>0.696091</td>\n      <td>0.216158</td>\n      <td>0.214625</td>\n      <td>0.308576</td>\n      <td>0.247226</td>\n      <td>0.138467</td>\n      <td>0.455844</td>\n      <td>0.419933</td>\n      <td>0.190762</td>\n      <td>1.000000</td>\n      <td>-0.199583</td>\n      <td>-0.298124</td>\n    </tr>\n    <tr>\n      <th>cups</th>\n      <td>0.087200</td>\n      <td>-0.244469</td>\n      <td>-0.175892</td>\n      <td>0.119665</td>\n      <td>-0.513061</td>\n      <td>0.367460</td>\n      <td>-0.048961</td>\n      <td>-0.501607</td>\n      <td>-0.335269</td>\n      <td>-0.199583</td>\n      <td>1.000000</td>\n      <td>-0.203160</td>\n    </tr>\n    <tr>\n      <th>rating</th>\n      <td>-0.689376</td>\n      <td>0.470618</td>\n      <td>-0.409284</td>\n      <td>-0.401295</td>\n      <td>0.584160</td>\n      <td>0.088712</td>\n      <td>-0.763902</td>\n      <td>0.416009</td>\n      <td>0.025159</td>\n      <td>-0.298124</td>\n      <td>-0.203160</td>\n      <td>1.000000</td>\n    </tr>\n  </tbody>\n</table>\n</div>"
     },
     "execution_count": 29,
     "metadata": {},
     "output_type": "execute_result"
    }
   ],
   "source": [
    "df.corr()"
   ],
   "metadata": {
    "collapsed": false,
    "ExecuteTime": {
     "end_time": "2023-07-03T11:50:44.109586400Z",
     "start_time": "2023-07-03T11:50:44.072955700Z"
    }
   }
  },
  {
   "cell_type": "code",
   "execution_count": 30,
   "outputs": [
    {
     "data": {
      "text/plain": "         calories    protein        fat      sodium      fiber      carbo  \\\ncount   77.000000  77.000000  77.000000   77.000000  77.000000  76.000000   \nmean   106.883117   2.545455   1.012987  159.675325   2.151948  14.802632   \nstd     19.484119   1.094790   1.006473   83.832295   2.383364   3.907326   \nmin     50.000000   1.000000   0.000000    0.000000   0.000000   5.000000   \n25%    100.000000   2.000000   0.000000  130.000000   1.000000  12.000000   \n50%    110.000000   3.000000   1.000000  180.000000   2.000000  14.500000   \n75%    110.000000   3.000000   2.000000  210.000000   3.000000  17.000000   \nmax    160.000000   6.000000   5.000000  320.000000  14.000000  23.000000   \n\n          sugars      potass      shelf     weight       cups     rating  \ncount  76.000000   75.000000  77.000000  77.000000  77.000000  77.000000  \nmean    7.026316   98.666667   2.207792   1.029610   0.821039  42.665705  \nstd     4.378656   70.410636   0.832524   0.150477   0.232716  14.047289  \nmin     0.000000   15.000000   1.000000   0.500000   0.250000  18.042851  \n25%     3.000000   42.500000   1.000000   1.000000   0.670000  33.174094  \n50%     7.000000   90.000000   2.000000   1.000000   0.750000  40.400208  \n75%    11.000000  120.000000   3.000000   1.000000   1.000000  50.828392  \nmax    15.000000  330.000000   3.000000   1.500000   1.500000  93.704912  ",
      "text/html": "<div>\n<style scoped>\n    .dataframe tbody tr th:only-of-type {\n        vertical-align: middle;\n    }\n\n    .dataframe tbody tr th {\n        vertical-align: top;\n    }\n\n    .dataframe thead th {\n        text-align: right;\n    }\n</style>\n<table border=\"1\" class=\"dataframe\">\n  <thead>\n    <tr style=\"text-align: right;\">\n      <th></th>\n      <th>calories</th>\n      <th>protein</th>\n      <th>fat</th>\n      <th>sodium</th>\n      <th>fiber</th>\n      <th>carbo</th>\n      <th>sugars</th>\n      <th>potass</th>\n      <th>shelf</th>\n      <th>weight</th>\n      <th>cups</th>\n      <th>rating</th>\n    </tr>\n  </thead>\n  <tbody>\n    <tr>\n      <th>count</th>\n      <td>77.000000</td>\n      <td>77.000000</td>\n      <td>77.000000</td>\n      <td>77.000000</td>\n      <td>77.000000</td>\n      <td>76.000000</td>\n      <td>76.000000</td>\n      <td>75.000000</td>\n      <td>77.000000</td>\n      <td>77.000000</td>\n      <td>77.000000</td>\n      <td>77.000000</td>\n    </tr>\n    <tr>\n      <th>mean</th>\n      <td>106.883117</td>\n      <td>2.545455</td>\n      <td>1.012987</td>\n      <td>159.675325</td>\n      <td>2.151948</td>\n      <td>14.802632</td>\n      <td>7.026316</td>\n      <td>98.666667</td>\n      <td>2.207792</td>\n      <td>1.029610</td>\n      <td>0.821039</td>\n      <td>42.665705</td>\n    </tr>\n    <tr>\n      <th>std</th>\n      <td>19.484119</td>\n      <td>1.094790</td>\n      <td>1.006473</td>\n      <td>83.832295</td>\n      <td>2.383364</td>\n      <td>3.907326</td>\n      <td>4.378656</td>\n      <td>70.410636</td>\n      <td>0.832524</td>\n      <td>0.150477</td>\n      <td>0.232716</td>\n      <td>14.047289</td>\n    </tr>\n    <tr>\n      <th>min</th>\n      <td>50.000000</td>\n      <td>1.000000</td>\n      <td>0.000000</td>\n      <td>0.000000</td>\n      <td>0.000000</td>\n      <td>5.000000</td>\n      <td>0.000000</td>\n      <td>15.000000</td>\n      <td>1.000000</td>\n      <td>0.500000</td>\n      <td>0.250000</td>\n      <td>18.042851</td>\n    </tr>\n    <tr>\n      <th>25%</th>\n      <td>100.000000</td>\n      <td>2.000000</td>\n      <td>0.000000</td>\n      <td>130.000000</td>\n      <td>1.000000</td>\n      <td>12.000000</td>\n      <td>3.000000</td>\n      <td>42.500000</td>\n      <td>1.000000</td>\n      <td>1.000000</td>\n      <td>0.670000</td>\n      <td>33.174094</td>\n    </tr>\n    <tr>\n      <th>50%</th>\n      <td>110.000000</td>\n      <td>3.000000</td>\n      <td>1.000000</td>\n      <td>180.000000</td>\n      <td>2.000000</td>\n      <td>14.500000</td>\n      <td>7.000000</td>\n      <td>90.000000</td>\n      <td>2.000000</td>\n      <td>1.000000</td>\n      <td>0.750000</td>\n      <td>40.400208</td>\n    </tr>\n    <tr>\n      <th>75%</th>\n      <td>110.000000</td>\n      <td>3.000000</td>\n      <td>2.000000</td>\n      <td>210.000000</td>\n      <td>3.000000</td>\n      <td>17.000000</td>\n      <td>11.000000</td>\n      <td>120.000000</td>\n      <td>3.000000</td>\n      <td>1.000000</td>\n      <td>1.000000</td>\n      <td>50.828392</td>\n    </tr>\n    <tr>\n      <th>max</th>\n      <td>160.000000</td>\n      <td>6.000000</td>\n      <td>5.000000</td>\n      <td>320.000000</td>\n      <td>14.000000</td>\n      <td>23.000000</td>\n      <td>15.000000</td>\n      <td>330.000000</td>\n      <td>3.000000</td>\n      <td>1.500000</td>\n      <td>1.500000</td>\n      <td>93.704912</td>\n    </tr>\n  </tbody>\n</table>\n</div>"
     },
     "execution_count": 30,
     "metadata": {},
     "output_type": "execute_result"
    }
   ],
   "source": [
    "df.describe()"
   ],
   "metadata": {
    "collapsed": false,
    "ExecuteTime": {
     "end_time": "2023-07-03T11:50:54.577869500Z",
     "start_time": "2023-07-03T11:50:54.537729200Z"
    }
   }
  },
  {
   "cell_type": "markdown",
   "source": [
    "### count"
   ],
   "metadata": {
    "collapsed": false
   }
  },
  {
   "cell_type": "code",
   "execution_count": 31,
   "outputs": [
    {
     "name": "stdout",
     "output_type": "stream",
     "text": [
      "<class 'pandas.core.frame.DataFrame'>\n",
      "Index: 77 entries, 100% Bran to Wheaties Honey Gold\n",
      "Data columns (total 15 columns):\n",
      " #   Column    Non-Null Count  Dtype  \n",
      "---  ------    --------------  -----  \n",
      " 0   mfr       77 non-null     object \n",
      " 1   type      77 non-null     object \n",
      " 2   calories  77 non-null     int64  \n",
      " 3   protein   77 non-null     int64  \n",
      " 4   fat       77 non-null     int64  \n",
      " 5   sodium    77 non-null     int64  \n",
      " 6   fiber     77 non-null     float64\n",
      " 7   carbo     76 non-null     float64\n",
      " 8   sugars    76 non-null     float64\n",
      " 9   potass    75 non-null     float64\n",
      " 10  vitamins  77 non-null     object \n",
      " 11  shelf     77 non-null     int64  \n",
      " 12  weight    77 non-null     float64\n",
      " 13  cups      77 non-null     float64\n",
      " 14  rating    77 non-null     float64\n",
      "dtypes: float64(7), int64(5), object(3)\n",
      "memory usage: 11.7+ KB\n"
     ]
    }
   ],
   "source": [
    "df.info()"
   ],
   "metadata": {
    "collapsed": false,
    "ExecuteTime": {
     "end_time": "2023-07-03T11:51:29.310580300Z",
     "start_time": "2023-07-03T11:51:29.260283700Z"
    }
   }
  },
  {
   "cell_type": "code",
   "execution_count": 33,
   "outputs": [
    {
     "data": {
      "text/plain": "K    23\nG    22\nP     9\nQ     8\nR     8\nN     6\nA     1\nName: mfr, dtype: int64"
     },
     "execution_count": 33,
     "metadata": {},
     "output_type": "execute_result"
    }
   ],
   "source": [
    "df.mfr.value_counts()"
   ],
   "metadata": {
    "collapsed": false,
    "ExecuteTime": {
     "end_time": "2023-07-03T11:52:46.593011Z",
     "start_time": "2023-07-03T11:52:46.580854300Z"
    }
   }
  },
  {
   "cell_type": "markdown",
   "source": [
    "### unique"
   ],
   "metadata": {
    "collapsed": false
   }
  },
  {
   "cell_type": "code",
   "execution_count": 34,
   "outputs": [
    {
     "data": {
      "text/plain": "array(['N', 'Q', 'K', 'R', 'G', 'P', 'A'], dtype=object)"
     },
     "execution_count": 34,
     "metadata": {},
     "output_type": "execute_result"
    }
   ],
   "source": [
    "df.mfr.unique()"
   ],
   "metadata": {
    "collapsed": false,
    "ExecuteTime": {
     "end_time": "2023-07-03T11:53:25.164909Z",
     "start_time": "2023-07-03T11:53:25.140745700Z"
    }
   }
  },
  {
   "cell_type": "code",
   "execution_count": 35,
   "outputs": [
    {
     "data": {
      "text/plain": "array(['C', 'H'], dtype=object)"
     },
     "execution_count": 35,
     "metadata": {},
     "output_type": "execute_result"
    }
   ],
   "source": [
    "df.type.unique()"
   ],
   "metadata": {
    "collapsed": false,
    "ExecuteTime": {
     "end_time": "2023-07-03T11:53:41.498452800Z",
     "start_time": "2023-07-03T11:53:41.479191100Z"
    }
   }
  },
  {
   "cell_type": "code",
   "execution_count": 36,
   "outputs": [
    {
     "data": {
      "text/plain": "array([3, 1, 2], dtype=int64)"
     },
     "execution_count": 36,
     "metadata": {},
     "output_type": "execute_result"
    }
   ],
   "source": [
    "df.shelf.unique()"
   ],
   "metadata": {
    "collapsed": false,
    "ExecuteTime": {
     "end_time": "2023-07-03T11:53:51.533935200Z",
     "start_time": "2023-07-03T11:53:51.517406700Z"
    }
   }
  },
  {
   "cell_type": "code",
   "execution_count": 37,
   "outputs": [
    {
     "data": {
      "text/plain": "mfr          7\ntype         2\ncalories    11\nprotein      6\nfat          5\nsodium      27\nfiber       13\ncarbo       21\nsugars      16\npotass      35\nvitamins     3\nshelf        3\nweight       7\ncups        12\nrating      77\ndtype: int64"
     },
     "execution_count": 37,
     "metadata": {},
     "output_type": "execute_result"
    }
   ],
   "source": [
    "df.nunique()"
   ],
   "metadata": {
    "collapsed": false,
    "ExecuteTime": {
     "end_time": "2023-07-03T11:54:01.232619800Z",
     "start_time": "2023-07-03T11:54:01.220396900Z"
    }
   }
  },
  {
   "cell_type": "markdown",
   "source": [
    "# Series"
   ],
   "metadata": {
    "collapsed": false
   }
  },
  {
   "cell_type": "code",
   "execution_count": 39,
   "outputs": [
    {
     "data": {
      "text/plain": "name\n100% Bran                    68.402973\n100% Natural Bran            33.983679\nAll-Bran                     59.425505\nAll-Bran with Extra Fiber    93.704912\nAlmond Delight               34.384843\nName: rating, dtype: float64"
     },
     "execution_count": 39,
     "metadata": {},
     "output_type": "execute_result"
    }
   ],
   "source": [
    "df.rating.head()"
   ],
   "metadata": {
    "collapsed": false,
    "ExecuteTime": {
     "end_time": "2023-07-03T11:54:42.439183400Z",
     "start_time": "2023-07-03T11:54:42.416783600Z"
    }
   }
  },
  {
   "cell_type": "code",
   "execution_count": 41,
   "outputs": [
    {
     "data": {
      "text/plain": "42.66570498701299"
     },
     "execution_count": 41,
     "metadata": {},
     "output_type": "execute_result"
    }
   ],
   "source": [
    "df.rating.mean()"
   ],
   "metadata": {
    "collapsed": false,
    "ExecuteTime": {
     "end_time": "2023-07-03T11:55:16.680207400Z",
     "start_time": "2023-07-03T11:55:16.670720300Z"
    }
   }
  },
  {
   "cell_type": "code",
   "execution_count": 42,
   "outputs": [
    {
     "data": {
      "text/plain": "40.400208"
     },
     "execution_count": 42,
     "metadata": {},
     "output_type": "execute_result"
    }
   ],
   "source": [
    "df.rating.median()\n"
   ],
   "metadata": {
    "collapsed": false,
    "ExecuteTime": {
     "end_time": "2023-07-03T12:58:46.401946100Z",
     "start_time": "2023-07-03T12:58:46.385743500Z"
    }
   }
  },
  {
   "cell_type": "code",
   "execution_count": 44,
   "outputs": [
    {
     "data": {
      "text/plain": "76"
     },
     "execution_count": 44,
     "metadata": {},
     "output_type": "execute_result"
    }
   ],
   "source": [
    "df.carbo.count()"
   ],
   "metadata": {
    "collapsed": false,
    "ExecuteTime": {
     "end_time": "2023-07-03T12:59:10.852351900Z",
     "start_time": "2023-07-03T12:59:10.823428900Z"
    }
   }
  },
  {
   "cell_type": "markdown",
   "source": [
    "# NaN Value\n",
    "\n",
    "nan = not a number"
   ],
   "metadata": {
    "collapsed": false
   }
  },
  {
   "cell_type": "code",
   "execution_count": 46,
   "outputs": [
    {
     "data": {
      "text/plain": "mfr         0\ntype        0\ncalories    0\nprotein     0\nfat         0\nsodium      0\nfiber       0\ncarbo       1\nsugars      1\npotass      2\nvitamins    0\nshelf       0\nweight      0\ncups        0\nrating      0\ndtype: int64"
     },
     "execution_count": 46,
     "metadata": {},
     "output_type": "execute_result"
    }
   ],
   "source": [
    "df.isna().sum()"
   ],
   "metadata": {
    "collapsed": false,
    "ExecuteTime": {
     "end_time": "2023-07-03T13:00:03.271793600Z",
     "start_time": "2023-07-03T13:00:03.240841100Z"
    }
   }
  },
  {
   "cell_type": "markdown",
   "source": [
    "### drop missing value"
   ],
   "metadata": {
    "collapsed": false
   }
  },
  {
   "cell_type": "code",
   "execution_count": 47,
   "outputs": [
    {
     "data": {
      "text/plain": "                          mfr type  calories  protein  fat  sodium  fiber  \\\nname                                                                        \n100% Bran                   N    C        70        4    1     130   10.0   \n100% Natural Bran           Q    C       120        3    5      15    2.0   \nAll-Bran                    K    C        70        4    1     260    9.0   \nAll-Bran with Extra Fiber   K    C        50        4    0     140   14.0   \nApple Cinnamon Cheerios     G    C       110        2    2     180    1.5   \n\n                           carbo  sugars  potass vitamins  shelf  weight  \\\nname                                                                       \n100% Bran                    5.0     6.0   280.0   FDA_25      3     1.0   \n100% Natural Bran            8.0     8.0   135.0    FDA_0      3     1.0   \nAll-Bran                     7.0     5.0   320.0   FDA_25      3     1.0   \nAll-Bran with Extra Fiber    8.0     0.0   330.0   FDA_25      3     1.0   \nApple Cinnamon Cheerios     10.5    10.0    70.0   FDA_25      1     1.0   \n\n                           cups     rating  \nname                                        \n100% Bran                  0.33  68.402973  \n100% Natural Bran          1.00  33.983679  \nAll-Bran                   0.33  59.425505  \nAll-Bran with Extra Fiber  0.50  93.704912  \nApple Cinnamon Cheerios    0.75  29.509541  ",
      "text/html": "<div>\n<style scoped>\n    .dataframe tbody tr th:only-of-type {\n        vertical-align: middle;\n    }\n\n    .dataframe tbody tr th {\n        vertical-align: top;\n    }\n\n    .dataframe thead th {\n        text-align: right;\n    }\n</style>\n<table border=\"1\" class=\"dataframe\">\n  <thead>\n    <tr style=\"text-align: right;\">\n      <th></th>\n      <th>mfr</th>\n      <th>type</th>\n      <th>calories</th>\n      <th>protein</th>\n      <th>fat</th>\n      <th>sodium</th>\n      <th>fiber</th>\n      <th>carbo</th>\n      <th>sugars</th>\n      <th>potass</th>\n      <th>vitamins</th>\n      <th>shelf</th>\n      <th>weight</th>\n      <th>cups</th>\n      <th>rating</th>\n    </tr>\n    <tr>\n      <th>name</th>\n      <th></th>\n      <th></th>\n      <th></th>\n      <th></th>\n      <th></th>\n      <th></th>\n      <th></th>\n      <th></th>\n      <th></th>\n      <th></th>\n      <th></th>\n      <th></th>\n      <th></th>\n      <th></th>\n      <th></th>\n    </tr>\n  </thead>\n  <tbody>\n    <tr>\n      <th>100% Bran</th>\n      <td>N</td>\n      <td>C</td>\n      <td>70</td>\n      <td>4</td>\n      <td>1</td>\n      <td>130</td>\n      <td>10.0</td>\n      <td>5.0</td>\n      <td>6.0</td>\n      <td>280.0</td>\n      <td>FDA_25</td>\n      <td>3</td>\n      <td>1.0</td>\n      <td>0.33</td>\n      <td>68.402973</td>\n    </tr>\n    <tr>\n      <th>100% Natural Bran</th>\n      <td>Q</td>\n      <td>C</td>\n      <td>120</td>\n      <td>3</td>\n      <td>5</td>\n      <td>15</td>\n      <td>2.0</td>\n      <td>8.0</td>\n      <td>8.0</td>\n      <td>135.0</td>\n      <td>FDA_0</td>\n      <td>3</td>\n      <td>1.0</td>\n      <td>1.00</td>\n      <td>33.983679</td>\n    </tr>\n    <tr>\n      <th>All-Bran</th>\n      <td>K</td>\n      <td>C</td>\n      <td>70</td>\n      <td>4</td>\n      <td>1</td>\n      <td>260</td>\n      <td>9.0</td>\n      <td>7.0</td>\n      <td>5.0</td>\n      <td>320.0</td>\n      <td>FDA_25</td>\n      <td>3</td>\n      <td>1.0</td>\n      <td>0.33</td>\n      <td>59.425505</td>\n    </tr>\n    <tr>\n      <th>All-Bran with Extra Fiber</th>\n      <td>K</td>\n      <td>C</td>\n      <td>50</td>\n      <td>4</td>\n      <td>0</td>\n      <td>140</td>\n      <td>14.0</td>\n      <td>8.0</td>\n      <td>0.0</td>\n      <td>330.0</td>\n      <td>FDA_25</td>\n      <td>3</td>\n      <td>1.0</td>\n      <td>0.50</td>\n      <td>93.704912</td>\n    </tr>\n    <tr>\n      <th>Apple Cinnamon Cheerios</th>\n      <td>G</td>\n      <td>C</td>\n      <td>110</td>\n      <td>2</td>\n      <td>2</td>\n      <td>180</td>\n      <td>1.5</td>\n      <td>10.5</td>\n      <td>10.0</td>\n      <td>70.0</td>\n      <td>FDA_25</td>\n      <td>1</td>\n      <td>1.0</td>\n      <td>0.75</td>\n      <td>29.509541</td>\n    </tr>\n  </tbody>\n</table>\n</div>"
     },
     "execution_count": 47,
     "metadata": {},
     "output_type": "execute_result"
    }
   ],
   "source": [
    "df.dropna().head()"
   ],
   "metadata": {
    "collapsed": false,
    "ExecuteTime": {
     "end_time": "2023-07-03T13:00:34.310180600Z",
     "start_time": "2023-07-03T13:00:34.284670700Z"
    }
   }
  },
  {
   "cell_type": "markdown",
   "source": [
    "### impute missing value"
   ],
   "metadata": {
    "collapsed": false
   }
  },
  {
   "cell_type": "code",
   "execution_count": 48,
   "outputs": [
    {
     "data": {
      "text/plain": "                          mfr type  calories  protein  fat  sodium  fiber  \\\nname                                                                        \n100% Bran                   N    C        70        4    1     130   10.0   \n100% Natural Bran           Q    C       120        3    5      15    2.0   \nAll-Bran                    K    C        70        4    1     260    9.0   \nAll-Bran with Extra Fiber   K    C        50        4    0     140   14.0   \nAlmond Delight              R    C       110        2    2     200    1.0   \n\n                          carbo sugars    potass vitamins  shelf  weight  \\\nname                                                                       \n100% Bran                   5.0    6.0     280.0   FDA_25      3     1.0   \n100% Natural Bran           8.0    8.0     135.0    FDA_0      3     1.0   \nAll-Bran                    7.0    5.0     320.0   FDA_25      3     1.0   \nAll-Bran with Extra Fiber   8.0    0.0     330.0   FDA_25      3     1.0   \nAlmond Delight             14.0    8.0  ==JCOp==   FDA_25      3     1.0   \n\n                           cups     rating  \nname                                        \n100% Bran                  0.33  68.402973  \n100% Natural Bran          1.00  33.983679  \nAll-Bran                   0.33  59.425505  \nAll-Bran with Extra Fiber  0.50  93.704912  \nAlmond Delight             0.75  34.384843  ",
      "text/html": "<div>\n<style scoped>\n    .dataframe tbody tr th:only-of-type {\n        vertical-align: middle;\n    }\n\n    .dataframe tbody tr th {\n        vertical-align: top;\n    }\n\n    .dataframe thead th {\n        text-align: right;\n    }\n</style>\n<table border=\"1\" class=\"dataframe\">\n  <thead>\n    <tr style=\"text-align: right;\">\n      <th></th>\n      <th>mfr</th>\n      <th>type</th>\n      <th>calories</th>\n      <th>protein</th>\n      <th>fat</th>\n      <th>sodium</th>\n      <th>fiber</th>\n      <th>carbo</th>\n      <th>sugars</th>\n      <th>potass</th>\n      <th>vitamins</th>\n      <th>shelf</th>\n      <th>weight</th>\n      <th>cups</th>\n      <th>rating</th>\n    </tr>\n    <tr>\n      <th>name</th>\n      <th></th>\n      <th></th>\n      <th></th>\n      <th></th>\n      <th></th>\n      <th></th>\n      <th></th>\n      <th></th>\n      <th></th>\n      <th></th>\n      <th></th>\n      <th></th>\n      <th></th>\n      <th></th>\n      <th></th>\n    </tr>\n  </thead>\n  <tbody>\n    <tr>\n      <th>100% Bran</th>\n      <td>N</td>\n      <td>C</td>\n      <td>70</td>\n      <td>4</td>\n      <td>1</td>\n      <td>130</td>\n      <td>10.0</td>\n      <td>5.0</td>\n      <td>6.0</td>\n      <td>280.0</td>\n      <td>FDA_25</td>\n      <td>3</td>\n      <td>1.0</td>\n      <td>0.33</td>\n      <td>68.402973</td>\n    </tr>\n    <tr>\n      <th>100% Natural Bran</th>\n      <td>Q</td>\n      <td>C</td>\n      <td>120</td>\n      <td>3</td>\n      <td>5</td>\n      <td>15</td>\n      <td>2.0</td>\n      <td>8.0</td>\n      <td>8.0</td>\n      <td>135.0</td>\n      <td>FDA_0</td>\n      <td>3</td>\n      <td>1.0</td>\n      <td>1.00</td>\n      <td>33.983679</td>\n    </tr>\n    <tr>\n      <th>All-Bran</th>\n      <td>K</td>\n      <td>C</td>\n      <td>70</td>\n      <td>4</td>\n      <td>1</td>\n      <td>260</td>\n      <td>9.0</td>\n      <td>7.0</td>\n      <td>5.0</td>\n      <td>320.0</td>\n      <td>FDA_25</td>\n      <td>3</td>\n      <td>1.0</td>\n      <td>0.33</td>\n      <td>59.425505</td>\n    </tr>\n    <tr>\n      <th>All-Bran with Extra Fiber</th>\n      <td>K</td>\n      <td>C</td>\n      <td>50</td>\n      <td>4</td>\n      <td>0</td>\n      <td>140</td>\n      <td>14.0</td>\n      <td>8.0</td>\n      <td>0.0</td>\n      <td>330.0</td>\n      <td>FDA_25</td>\n      <td>3</td>\n      <td>1.0</td>\n      <td>0.50</td>\n      <td>93.704912</td>\n    </tr>\n    <tr>\n      <th>Almond Delight</th>\n      <td>R</td>\n      <td>C</td>\n      <td>110</td>\n      <td>2</td>\n      <td>2</td>\n      <td>200</td>\n      <td>1.0</td>\n      <td>14.0</td>\n      <td>8.0</td>\n      <td>==JCOp==</td>\n      <td>FDA_25</td>\n      <td>3</td>\n      <td>1.0</td>\n      <td>0.75</td>\n      <td>34.384843</td>\n    </tr>\n  </tbody>\n</table>\n</div>"
     },
     "execution_count": 48,
     "metadata": {},
     "output_type": "execute_result"
    }
   ],
   "source": [
    "df.fillna(\"==JCOp==\").head()"
   ],
   "metadata": {
    "collapsed": false,
    "ExecuteTime": {
     "end_time": "2023-07-03T13:01:29.038302Z",
     "start_time": "2023-07-03T13:01:29.019005800Z"
    }
   }
  },
  {
   "cell_type": "code",
   "execution_count": 49,
   "outputs": [
    {
     "data": {
      "text/plain": "                          mfr type  calories  protein  fat  sodium  fiber  \\\nname                                                                        \n100% Bran                   N    C        70        4    1     130   10.0   \n100% Natural Bran           Q    C       120        3    5      15    2.0   \nAll-Bran                    K    C        70        4    1     260    9.0   \nAll-Bran with Extra Fiber   K    C        50        4    0     140   14.0   \nAlmond Delight              R    C       110        2    2     200    1.0   \n\n                          carbo sugars  potass vitamins  shelf  weight  cups  \\\nname                                                                           \n100% Bran                   5.0    6.0   280.0   FDA_25      3     1.0  0.33   \n100% Natural Bran           8.0    8.0   135.0    FDA_0      3     1.0  1.00   \nAll-Bran                    7.0    5.0   320.0   FDA_25      3     1.0  0.33   \nAll-Bran with Extra Fiber   8.0    0.0   330.0   FDA_25      3     1.0  0.50   \nAlmond Delight             14.0    8.0  POTASS   FDA_25      3     1.0  0.75   \n\n                              rating  \nname                                  \n100% Bran                  68.402973  \n100% Natural Bran          33.983679  \nAll-Bran                   59.425505  \nAll-Bran with Extra Fiber  93.704912  \nAlmond Delight             34.384843  ",
      "text/html": "<div>\n<style scoped>\n    .dataframe tbody tr th:only-of-type {\n        vertical-align: middle;\n    }\n\n    .dataframe tbody tr th {\n        vertical-align: top;\n    }\n\n    .dataframe thead th {\n        text-align: right;\n    }\n</style>\n<table border=\"1\" class=\"dataframe\">\n  <thead>\n    <tr style=\"text-align: right;\">\n      <th></th>\n      <th>mfr</th>\n      <th>type</th>\n      <th>calories</th>\n      <th>protein</th>\n      <th>fat</th>\n      <th>sodium</th>\n      <th>fiber</th>\n      <th>carbo</th>\n      <th>sugars</th>\n      <th>potass</th>\n      <th>vitamins</th>\n      <th>shelf</th>\n      <th>weight</th>\n      <th>cups</th>\n      <th>rating</th>\n    </tr>\n    <tr>\n      <th>name</th>\n      <th></th>\n      <th></th>\n      <th></th>\n      <th></th>\n      <th></th>\n      <th></th>\n      <th></th>\n      <th></th>\n      <th></th>\n      <th></th>\n      <th></th>\n      <th></th>\n      <th></th>\n      <th></th>\n      <th></th>\n    </tr>\n  </thead>\n  <tbody>\n    <tr>\n      <th>100% Bran</th>\n      <td>N</td>\n      <td>C</td>\n      <td>70</td>\n      <td>4</td>\n      <td>1</td>\n      <td>130</td>\n      <td>10.0</td>\n      <td>5.0</td>\n      <td>6.0</td>\n      <td>280.0</td>\n      <td>FDA_25</td>\n      <td>3</td>\n      <td>1.0</td>\n      <td>0.33</td>\n      <td>68.402973</td>\n    </tr>\n    <tr>\n      <th>100% Natural Bran</th>\n      <td>Q</td>\n      <td>C</td>\n      <td>120</td>\n      <td>3</td>\n      <td>5</td>\n      <td>15</td>\n      <td>2.0</td>\n      <td>8.0</td>\n      <td>8.0</td>\n      <td>135.0</td>\n      <td>FDA_0</td>\n      <td>3</td>\n      <td>1.0</td>\n      <td>1.00</td>\n      <td>33.983679</td>\n    </tr>\n    <tr>\n      <th>All-Bran</th>\n      <td>K</td>\n      <td>C</td>\n      <td>70</td>\n      <td>4</td>\n      <td>1</td>\n      <td>260</td>\n      <td>9.0</td>\n      <td>7.0</td>\n      <td>5.0</td>\n      <td>320.0</td>\n      <td>FDA_25</td>\n      <td>3</td>\n      <td>1.0</td>\n      <td>0.33</td>\n      <td>59.425505</td>\n    </tr>\n    <tr>\n      <th>All-Bran with Extra Fiber</th>\n      <td>K</td>\n      <td>C</td>\n      <td>50</td>\n      <td>4</td>\n      <td>0</td>\n      <td>140</td>\n      <td>14.0</td>\n      <td>8.0</td>\n      <td>0.0</td>\n      <td>330.0</td>\n      <td>FDA_25</td>\n      <td>3</td>\n      <td>1.0</td>\n      <td>0.50</td>\n      <td>93.704912</td>\n    </tr>\n    <tr>\n      <th>Almond Delight</th>\n      <td>R</td>\n      <td>C</td>\n      <td>110</td>\n      <td>2</td>\n      <td>2</td>\n      <td>200</td>\n      <td>1.0</td>\n      <td>14.0</td>\n      <td>8.0</td>\n      <td>POTASS</td>\n      <td>FDA_25</td>\n      <td>3</td>\n      <td>1.0</td>\n      <td>0.75</td>\n      <td>34.384843</td>\n    </tr>\n  </tbody>\n</table>\n</div>"
     },
     "execution_count": 49,
     "metadata": {},
     "output_type": "execute_result"
    }
   ],
   "source": [
    "filler = {\"carbo\":\"CARBO\", \"sugars\":\"SUGARS\", \"potass\":\"POTASS\"}\n",
    "df.fillna(filler).head()"
   ],
   "metadata": {
    "collapsed": false,
    "ExecuteTime": {
     "end_time": "2023-07-03T13:02:30.305572300Z",
     "start_time": "2023-07-03T13:02:30.274647Z"
    }
   }
  },
  {
   "cell_type": "code",
   "execution_count": 50,
   "outputs": [
    {
     "name": "stderr",
     "output_type": "stream",
     "text": [
      "C:\\Users\\ferli\\AppData\\Local\\Temp\\ipykernel_21132\\1673575029.py:1: FutureWarning: Dropping of nuisance columns in DataFrame reductions (with 'numeric_only=None') is deprecated; in a future version this will raise TypeError.  Select only valid columns before calling the reduction.\n",
      "  df.fillna(df.mean()).head()\n"
     ]
    },
    {
     "data": {
      "text/plain": "                          mfr type  calories  protein  fat  sodium  fiber  \\\nname                                                                        \n100% Bran                   N    C        70        4    1     130   10.0   \n100% Natural Bran           Q    C       120        3    5      15    2.0   \nAll-Bran                    K    C        70        4    1     260    9.0   \nAll-Bran with Extra Fiber   K    C        50        4    0     140   14.0   \nAlmond Delight              R    C       110        2    2     200    1.0   \n\n                           carbo  sugars      potass vitamins  shelf  weight  \\\nname                                                                           \n100% Bran                    5.0     6.0  280.000000   FDA_25      3     1.0   \n100% Natural Bran            8.0     8.0  135.000000    FDA_0      3     1.0   \nAll-Bran                     7.0     5.0  320.000000   FDA_25      3     1.0   \nAll-Bran with Extra Fiber    8.0     0.0  330.000000   FDA_25      3     1.0   \nAlmond Delight              14.0     8.0   98.666667   FDA_25      3     1.0   \n\n                           cups     rating  \nname                                        \n100% Bran                  0.33  68.402973  \n100% Natural Bran          1.00  33.983679  \nAll-Bran                   0.33  59.425505  \nAll-Bran with Extra Fiber  0.50  93.704912  \nAlmond Delight             0.75  34.384843  ",
      "text/html": "<div>\n<style scoped>\n    .dataframe tbody tr th:only-of-type {\n        vertical-align: middle;\n    }\n\n    .dataframe tbody tr th {\n        vertical-align: top;\n    }\n\n    .dataframe thead th {\n        text-align: right;\n    }\n</style>\n<table border=\"1\" class=\"dataframe\">\n  <thead>\n    <tr style=\"text-align: right;\">\n      <th></th>\n      <th>mfr</th>\n      <th>type</th>\n      <th>calories</th>\n      <th>protein</th>\n      <th>fat</th>\n      <th>sodium</th>\n      <th>fiber</th>\n      <th>carbo</th>\n      <th>sugars</th>\n      <th>potass</th>\n      <th>vitamins</th>\n      <th>shelf</th>\n      <th>weight</th>\n      <th>cups</th>\n      <th>rating</th>\n    </tr>\n    <tr>\n      <th>name</th>\n      <th></th>\n      <th></th>\n      <th></th>\n      <th></th>\n      <th></th>\n      <th></th>\n      <th></th>\n      <th></th>\n      <th></th>\n      <th></th>\n      <th></th>\n      <th></th>\n      <th></th>\n      <th></th>\n      <th></th>\n    </tr>\n  </thead>\n  <tbody>\n    <tr>\n      <th>100% Bran</th>\n      <td>N</td>\n      <td>C</td>\n      <td>70</td>\n      <td>4</td>\n      <td>1</td>\n      <td>130</td>\n      <td>10.0</td>\n      <td>5.0</td>\n      <td>6.0</td>\n      <td>280.000000</td>\n      <td>FDA_25</td>\n      <td>3</td>\n      <td>1.0</td>\n      <td>0.33</td>\n      <td>68.402973</td>\n    </tr>\n    <tr>\n      <th>100% Natural Bran</th>\n      <td>Q</td>\n      <td>C</td>\n      <td>120</td>\n      <td>3</td>\n      <td>5</td>\n      <td>15</td>\n      <td>2.0</td>\n      <td>8.0</td>\n      <td>8.0</td>\n      <td>135.000000</td>\n      <td>FDA_0</td>\n      <td>3</td>\n      <td>1.0</td>\n      <td>1.00</td>\n      <td>33.983679</td>\n    </tr>\n    <tr>\n      <th>All-Bran</th>\n      <td>K</td>\n      <td>C</td>\n      <td>70</td>\n      <td>4</td>\n      <td>1</td>\n      <td>260</td>\n      <td>9.0</td>\n      <td>7.0</td>\n      <td>5.0</td>\n      <td>320.000000</td>\n      <td>FDA_25</td>\n      <td>3</td>\n      <td>1.0</td>\n      <td>0.33</td>\n      <td>59.425505</td>\n    </tr>\n    <tr>\n      <th>All-Bran with Extra Fiber</th>\n      <td>K</td>\n      <td>C</td>\n      <td>50</td>\n      <td>4</td>\n      <td>0</td>\n      <td>140</td>\n      <td>14.0</td>\n      <td>8.0</td>\n      <td>0.0</td>\n      <td>330.000000</td>\n      <td>FDA_25</td>\n      <td>3</td>\n      <td>1.0</td>\n      <td>0.50</td>\n      <td>93.704912</td>\n    </tr>\n    <tr>\n      <th>Almond Delight</th>\n      <td>R</td>\n      <td>C</td>\n      <td>110</td>\n      <td>2</td>\n      <td>2</td>\n      <td>200</td>\n      <td>1.0</td>\n      <td>14.0</td>\n      <td>8.0</td>\n      <td>98.666667</td>\n      <td>FDA_25</td>\n      <td>3</td>\n      <td>1.0</td>\n      <td>0.75</td>\n      <td>34.384843</td>\n    </tr>\n  </tbody>\n</table>\n</div>"
     },
     "execution_count": 50,
     "metadata": {},
     "output_type": "execute_result"
    }
   ],
   "source": [
    "df.fillna(df.mean()).head()"
   ],
   "metadata": {
    "collapsed": false,
    "ExecuteTime": {
     "end_time": "2023-07-03T13:03:00.669193Z",
     "start_time": "2023-07-03T13:03:00.185392100Z"
    }
   }
  },
  {
   "cell_type": "code",
   "execution_count": 51,
   "outputs": [
    {
     "data": {
      "text/plain": "                          mfr type  calories  protein  fat  sodium  fiber  \\\nname                                                                        \n100% Bran                   N    C        70        4    1     130   10.0   \n100% Natural Bran           Q    C       120        3    5      15    2.0   \nAll-Bran                    K    C        70        4    1     260    9.0   \nAll-Bran with Extra Fiber   K    C        50        4    0     140   14.0   \nAlmond Delight              R    C       110        2    2     200    1.0   \n\n                           carbo  sugars  potass vitamins  shelf  weight  \\\nname                                                                       \n100% Bran                    5.0     6.0   280.0   FDA_25      3     1.0   \n100% Natural Bran            8.0     8.0   135.0    FDA_0      3     1.0   \nAll-Bran                     7.0     5.0   320.0   FDA_25      3     1.0   \nAll-Bran with Extra Fiber    8.0     0.0   330.0   FDA_25      3     1.0   \nAlmond Delight              14.0     8.0     NaN   FDA_25      3     1.0   \n\n                           cups     rating  \nname                                        \n100% Bran                  0.33  68.402973  \n100% Natural Bran          1.00  33.983679  \nAll-Bran                   0.33  59.425505  \nAll-Bran with Extra Fiber  0.50  93.704912  \nAlmond Delight             0.75  34.384843  ",
      "text/html": "<div>\n<style scoped>\n    .dataframe tbody tr th:only-of-type {\n        vertical-align: middle;\n    }\n\n    .dataframe tbody tr th {\n        vertical-align: top;\n    }\n\n    .dataframe thead th {\n        text-align: right;\n    }\n</style>\n<table border=\"1\" class=\"dataframe\">\n  <thead>\n    <tr style=\"text-align: right;\">\n      <th></th>\n      <th>mfr</th>\n      <th>type</th>\n      <th>calories</th>\n      <th>protein</th>\n      <th>fat</th>\n      <th>sodium</th>\n      <th>fiber</th>\n      <th>carbo</th>\n      <th>sugars</th>\n      <th>potass</th>\n      <th>vitamins</th>\n      <th>shelf</th>\n      <th>weight</th>\n      <th>cups</th>\n      <th>rating</th>\n    </tr>\n    <tr>\n      <th>name</th>\n      <th></th>\n      <th></th>\n      <th></th>\n      <th></th>\n      <th></th>\n      <th></th>\n      <th></th>\n      <th></th>\n      <th></th>\n      <th></th>\n      <th></th>\n      <th></th>\n      <th></th>\n      <th></th>\n      <th></th>\n    </tr>\n  </thead>\n  <tbody>\n    <tr>\n      <th>100% Bran</th>\n      <td>N</td>\n      <td>C</td>\n      <td>70</td>\n      <td>4</td>\n      <td>1</td>\n      <td>130</td>\n      <td>10.0</td>\n      <td>5.0</td>\n      <td>6.0</td>\n      <td>280.0</td>\n      <td>FDA_25</td>\n      <td>3</td>\n      <td>1.0</td>\n      <td>0.33</td>\n      <td>68.402973</td>\n    </tr>\n    <tr>\n      <th>100% Natural Bran</th>\n      <td>Q</td>\n      <td>C</td>\n      <td>120</td>\n      <td>3</td>\n      <td>5</td>\n      <td>15</td>\n      <td>2.0</td>\n      <td>8.0</td>\n      <td>8.0</td>\n      <td>135.0</td>\n      <td>FDA_0</td>\n      <td>3</td>\n      <td>1.0</td>\n      <td>1.00</td>\n      <td>33.983679</td>\n    </tr>\n    <tr>\n      <th>All-Bran</th>\n      <td>K</td>\n      <td>C</td>\n      <td>70</td>\n      <td>4</td>\n      <td>1</td>\n      <td>260</td>\n      <td>9.0</td>\n      <td>7.0</td>\n      <td>5.0</td>\n      <td>320.0</td>\n      <td>FDA_25</td>\n      <td>3</td>\n      <td>1.0</td>\n      <td>0.33</td>\n      <td>59.425505</td>\n    </tr>\n    <tr>\n      <th>All-Bran with Extra Fiber</th>\n      <td>K</td>\n      <td>C</td>\n      <td>50</td>\n      <td>4</td>\n      <td>0</td>\n      <td>140</td>\n      <td>14.0</td>\n      <td>8.0</td>\n      <td>0.0</td>\n      <td>330.0</td>\n      <td>FDA_25</td>\n      <td>3</td>\n      <td>1.0</td>\n      <td>0.50</td>\n      <td>93.704912</td>\n    </tr>\n    <tr>\n      <th>Almond Delight</th>\n      <td>R</td>\n      <td>C</td>\n      <td>110</td>\n      <td>2</td>\n      <td>2</td>\n      <td>200</td>\n      <td>1.0</td>\n      <td>14.0</td>\n      <td>8.0</td>\n      <td>NaN</td>\n      <td>FDA_25</td>\n      <td>3</td>\n      <td>1.0</td>\n      <td>0.75</td>\n      <td>34.384843</td>\n    </tr>\n  </tbody>\n</table>\n</div>"
     },
     "execution_count": 51,
     "metadata": {},
     "output_type": "execute_result"
    }
   ],
   "source": [
    "df.head()"
   ],
   "metadata": {
    "collapsed": false,
    "ExecuteTime": {
     "end_time": "2023-07-03T13:03:38.055480Z",
     "start_time": "2023-07-03T13:03:38.026076100Z"
    }
   }
  },
  {
   "cell_type": "code",
   "execution_count": 53,
   "outputs": [
    {
     "name": "stderr",
     "output_type": "stream",
     "text": [
      "C:\\Users\\ferli\\AppData\\Local\\Temp\\ipykernel_21132\\4140593714.py:1: FutureWarning: Dropping of nuisance columns in DataFrame reductions (with 'numeric_only=None') is deprecated; in a future version this will raise TypeError.  Select only valid columns before calling the reduction.\n",
      "  df.fillna(df.mean(), inplace=True)\n"
     ]
    },
    {
     "data": {
      "text/plain": "                          mfr type  calories  protein  fat  sodium  fiber  \\\nname                                                                        \n100% Bran                   N    C        70        4    1     130   10.0   \n100% Natural Bran           Q    C       120        3    5      15    2.0   \nAll-Bran                    K    C        70        4    1     260    9.0   \nAll-Bran with Extra Fiber   K    C        50        4    0     140   14.0   \nAlmond Delight              R    C       110        2    2     200    1.0   \n\n                           carbo  sugars      potass vitamins  shelf  weight  \\\nname                                                                           \n100% Bran                    5.0     6.0  280.000000   FDA_25      3     1.0   \n100% Natural Bran            8.0     8.0  135.000000    FDA_0      3     1.0   \nAll-Bran                     7.0     5.0  320.000000   FDA_25      3     1.0   \nAll-Bran with Extra Fiber    8.0     0.0  330.000000   FDA_25      3     1.0   \nAlmond Delight              14.0     8.0   98.666667   FDA_25      3     1.0   \n\n                           cups     rating  \nname                                        \n100% Bran                  0.33  68.402973  \n100% Natural Bran          1.00  33.983679  \nAll-Bran                   0.33  59.425505  \nAll-Bran with Extra Fiber  0.50  93.704912  \nAlmond Delight             0.75  34.384843  ",
      "text/html": "<div>\n<style scoped>\n    .dataframe tbody tr th:only-of-type {\n        vertical-align: middle;\n    }\n\n    .dataframe tbody tr th {\n        vertical-align: top;\n    }\n\n    .dataframe thead th {\n        text-align: right;\n    }\n</style>\n<table border=\"1\" class=\"dataframe\">\n  <thead>\n    <tr style=\"text-align: right;\">\n      <th></th>\n      <th>mfr</th>\n      <th>type</th>\n      <th>calories</th>\n      <th>protein</th>\n      <th>fat</th>\n      <th>sodium</th>\n      <th>fiber</th>\n      <th>carbo</th>\n      <th>sugars</th>\n      <th>potass</th>\n      <th>vitamins</th>\n      <th>shelf</th>\n      <th>weight</th>\n      <th>cups</th>\n      <th>rating</th>\n    </tr>\n    <tr>\n      <th>name</th>\n      <th></th>\n      <th></th>\n      <th></th>\n      <th></th>\n      <th></th>\n      <th></th>\n      <th></th>\n      <th></th>\n      <th></th>\n      <th></th>\n      <th></th>\n      <th></th>\n      <th></th>\n      <th></th>\n      <th></th>\n    </tr>\n  </thead>\n  <tbody>\n    <tr>\n      <th>100% Bran</th>\n      <td>N</td>\n      <td>C</td>\n      <td>70</td>\n      <td>4</td>\n      <td>1</td>\n      <td>130</td>\n      <td>10.0</td>\n      <td>5.0</td>\n      <td>6.0</td>\n      <td>280.000000</td>\n      <td>FDA_25</td>\n      <td>3</td>\n      <td>1.0</td>\n      <td>0.33</td>\n      <td>68.402973</td>\n    </tr>\n    <tr>\n      <th>100% Natural Bran</th>\n      <td>Q</td>\n      <td>C</td>\n      <td>120</td>\n      <td>3</td>\n      <td>5</td>\n      <td>15</td>\n      <td>2.0</td>\n      <td>8.0</td>\n      <td>8.0</td>\n      <td>135.000000</td>\n      <td>FDA_0</td>\n      <td>3</td>\n      <td>1.0</td>\n      <td>1.00</td>\n      <td>33.983679</td>\n    </tr>\n    <tr>\n      <th>All-Bran</th>\n      <td>K</td>\n      <td>C</td>\n      <td>70</td>\n      <td>4</td>\n      <td>1</td>\n      <td>260</td>\n      <td>9.0</td>\n      <td>7.0</td>\n      <td>5.0</td>\n      <td>320.000000</td>\n      <td>FDA_25</td>\n      <td>3</td>\n      <td>1.0</td>\n      <td>0.33</td>\n      <td>59.425505</td>\n    </tr>\n    <tr>\n      <th>All-Bran with Extra Fiber</th>\n      <td>K</td>\n      <td>C</td>\n      <td>50</td>\n      <td>4</td>\n      <td>0</td>\n      <td>140</td>\n      <td>14.0</td>\n      <td>8.0</td>\n      <td>0.0</td>\n      <td>330.000000</td>\n      <td>FDA_25</td>\n      <td>3</td>\n      <td>1.0</td>\n      <td>0.50</td>\n      <td>93.704912</td>\n    </tr>\n    <tr>\n      <th>Almond Delight</th>\n      <td>R</td>\n      <td>C</td>\n      <td>110</td>\n      <td>2</td>\n      <td>2</td>\n      <td>200</td>\n      <td>1.0</td>\n      <td>14.0</td>\n      <td>8.0</td>\n      <td>98.666667</td>\n      <td>FDA_25</td>\n      <td>3</td>\n      <td>1.0</td>\n      <td>0.75</td>\n      <td>34.384843</td>\n    </tr>\n  </tbody>\n</table>\n</div>"
     },
     "execution_count": 53,
     "metadata": {},
     "output_type": "execute_result"
    }
   ],
   "source": [
    "# df = df.fillna(df.mean())\n",
    "df.fillna(df.mean(), inplace=True)\n",
    "df.head()"
   ],
   "metadata": {
    "collapsed": false,
    "ExecuteTime": {
     "end_time": "2023-07-03T13:04:19.610092900Z",
     "start_time": "2023-07-03T13:04:19.580400500Z"
    }
   }
  },
  {
   "cell_type": "markdown",
   "source": [
    "# Save to csv"
   ],
   "metadata": {
    "collapsed": false
   }
  },
  {
   "cell_type": "code",
   "execution_count": 55,
   "outputs": [],
   "source": [
    "df.to_csv(\"data/cereal_imp.csv\", index_label='name')\n",
    "# df.to_csv(\"data/cereal_imp.csv\", index=None)"
   ],
   "metadata": {
    "collapsed": false,
    "ExecuteTime": {
     "end_time": "2023-07-03T13:06:57.008381500Z",
     "start_time": "2023-07-03T13:06:56.989845700Z"
    }
   }
  }
 ],
 "metadata": {
  "kernelspec": {
   "display_name": "Python 3",
   "language": "python",
   "name": "python3"
  },
  "language_info": {
   "codemirror_mode": {
    "name": "ipython",
    "version": 2
   },
   "file_extension": ".py",
   "mimetype": "text/x-python",
   "name": "python",
   "nbconvert_exporter": "python",
   "pygments_lexer": "ipython2",
   "version": "2.7.6"
  }
 },
 "nbformat": 4,
 "nbformat_minor": 0
}
